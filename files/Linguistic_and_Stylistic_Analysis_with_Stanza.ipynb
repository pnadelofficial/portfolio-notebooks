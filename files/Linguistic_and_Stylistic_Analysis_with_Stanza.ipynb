{
  "nbformat": 4,
  "nbformat_minor": 0,
  "metadata": {
    "colab": {
      "name": "Linguistic and Stylistic Analysis with Stanza",
      "provenance": [],
      "collapsed_sections": []
    },
    "kernelspec": {
      "name": "python3",
      "display_name": "Python 3"
    },
    "language_info": {
      "name": "python"
    },
    "widgets": {
      "application/vnd.jupyter.widget-state+json": {
        "f6e8e2553df04556ad5b214a97e8aa65": {
          "model_module": "@jupyter-widgets/controls",
          "model_name": "HBoxModel",
          "model_module_version": "1.5.0",
          "state": {
            "_view_name": "HBoxView",
            "_dom_classes": [],
            "_model_name": "HBoxModel",
            "_view_module": "@jupyter-widgets/controls",
            "_model_module_version": "1.5.0",
            "_view_count": null,
            "_view_module_version": "1.5.0",
            "box_style": "",
            "layout": "IPY_MODEL_ce53229e4e5b420f84fc12df0b0a74d3",
            "_model_module": "@jupyter-widgets/controls",
            "children": [
              "IPY_MODEL_4afff6d8315649568fab3d380c5cb58e",
              "IPY_MODEL_d6aad607f54c4627a78cbf9e85b88afd",
              "IPY_MODEL_6d07f48975e243309d35101980329b2c"
            ]
          }
        },
        "ce53229e4e5b420f84fc12df0b0a74d3": {
          "model_module": "@jupyter-widgets/base",
          "model_name": "LayoutModel",
          "model_module_version": "1.2.0",
          "state": {
            "_view_name": "LayoutView",
            "grid_template_rows": null,
            "right": null,
            "justify_content": null,
            "_view_module": "@jupyter-widgets/base",
            "overflow": null,
            "_model_module_version": "1.2.0",
            "_view_count": null,
            "flex_flow": null,
            "width": null,
            "min_width": null,
            "border": null,
            "align_items": null,
            "bottom": null,
            "_model_module": "@jupyter-widgets/base",
            "top": null,
            "grid_column": null,
            "overflow_y": null,
            "overflow_x": null,
            "grid_auto_flow": null,
            "grid_area": null,
            "grid_template_columns": null,
            "flex": null,
            "_model_name": "LayoutModel",
            "justify_items": null,
            "grid_row": null,
            "max_height": null,
            "align_content": null,
            "visibility": null,
            "align_self": null,
            "height": null,
            "min_height": null,
            "padding": null,
            "grid_auto_rows": null,
            "grid_gap": null,
            "max_width": null,
            "order": null,
            "_view_module_version": "1.2.0",
            "grid_template_areas": null,
            "object_position": null,
            "object_fit": null,
            "grid_auto_columns": null,
            "margin": null,
            "display": null,
            "left": null
          }
        },
        "4afff6d8315649568fab3d380c5cb58e": {
          "model_module": "@jupyter-widgets/controls",
          "model_name": "HTMLModel",
          "model_module_version": "1.5.0",
          "state": {
            "_view_name": "HTMLView",
            "style": "IPY_MODEL_e75b5a053b0747b6b1a2756c5a914f99",
            "_dom_classes": [],
            "description": "",
            "_model_name": "HTMLModel",
            "placeholder": "​",
            "_view_module": "@jupyter-widgets/controls",
            "_model_module_version": "1.5.0",
            "value": "Downloading https://raw.githubusercontent.com/stanfordnlp/stanza-resources/main/resources_1.3.0.json: ",
            "_view_count": null,
            "_view_module_version": "1.5.0",
            "description_tooltip": null,
            "_model_module": "@jupyter-widgets/controls",
            "layout": "IPY_MODEL_3871ff4e47d54932a6ce6928418e6daa"
          }
        },
        "d6aad607f54c4627a78cbf9e85b88afd": {
          "model_module": "@jupyter-widgets/controls",
          "model_name": "FloatProgressModel",
          "model_module_version": "1.5.0",
          "state": {
            "_view_name": "ProgressView",
            "style": "IPY_MODEL_d4409f2f60984a7194d1ed2528444288",
            "_dom_classes": [],
            "description": "",
            "_model_name": "FloatProgressModel",
            "bar_style": "success",
            "max": 24459,
            "_view_module": "@jupyter-widgets/controls",
            "_model_module_version": "1.5.0",
            "value": 24459,
            "_view_count": null,
            "_view_module_version": "1.5.0",
            "orientation": "horizontal",
            "min": 0,
            "description_tooltip": null,
            "_model_module": "@jupyter-widgets/controls",
            "layout": "IPY_MODEL_54d6dddd00d946e1a67563fa18e8a935"
          }
        },
        "6d07f48975e243309d35101980329b2c": {
          "model_module": "@jupyter-widgets/controls",
          "model_name": "HTMLModel",
          "model_module_version": "1.5.0",
          "state": {
            "_view_name": "HTMLView",
            "style": "IPY_MODEL_58f636d09a744fe996e3a5227e757e84",
            "_dom_classes": [],
            "description": "",
            "_model_name": "HTMLModel",
            "placeholder": "​",
            "_view_module": "@jupyter-widgets/controls",
            "_model_module_version": "1.5.0",
            "value": " 142k/? [00:00&lt;00:00, 1.73MB/s]",
            "_view_count": null,
            "_view_module_version": "1.5.0",
            "description_tooltip": null,
            "_model_module": "@jupyter-widgets/controls",
            "layout": "IPY_MODEL_1346969c866e4c03b36dae5978387678"
          }
        },
        "e75b5a053b0747b6b1a2756c5a914f99": {
          "model_module": "@jupyter-widgets/controls",
          "model_name": "DescriptionStyleModel",
          "model_module_version": "1.5.0",
          "state": {
            "_view_name": "StyleView",
            "_model_name": "DescriptionStyleModel",
            "description_width": "",
            "_view_module": "@jupyter-widgets/base",
            "_model_module_version": "1.5.0",
            "_view_count": null,
            "_view_module_version": "1.2.0",
            "_model_module": "@jupyter-widgets/controls"
          }
        },
        "3871ff4e47d54932a6ce6928418e6daa": {
          "model_module": "@jupyter-widgets/base",
          "model_name": "LayoutModel",
          "model_module_version": "1.2.0",
          "state": {
            "_view_name": "LayoutView",
            "grid_template_rows": null,
            "right": null,
            "justify_content": null,
            "_view_module": "@jupyter-widgets/base",
            "overflow": null,
            "_model_module_version": "1.2.0",
            "_view_count": null,
            "flex_flow": null,
            "width": null,
            "min_width": null,
            "border": null,
            "align_items": null,
            "bottom": null,
            "_model_module": "@jupyter-widgets/base",
            "top": null,
            "grid_column": null,
            "overflow_y": null,
            "overflow_x": null,
            "grid_auto_flow": null,
            "grid_area": null,
            "grid_template_columns": null,
            "flex": null,
            "_model_name": "LayoutModel",
            "justify_items": null,
            "grid_row": null,
            "max_height": null,
            "align_content": null,
            "visibility": null,
            "align_self": null,
            "height": null,
            "min_height": null,
            "padding": null,
            "grid_auto_rows": null,
            "grid_gap": null,
            "max_width": null,
            "order": null,
            "_view_module_version": "1.2.0",
            "grid_template_areas": null,
            "object_position": null,
            "object_fit": null,
            "grid_auto_columns": null,
            "margin": null,
            "display": null,
            "left": null
          }
        },
        "d4409f2f60984a7194d1ed2528444288": {
          "model_module": "@jupyter-widgets/controls",
          "model_name": "ProgressStyleModel",
          "model_module_version": "1.5.0",
          "state": {
            "_view_name": "StyleView",
            "_model_name": "ProgressStyleModel",
            "description_width": "",
            "_view_module": "@jupyter-widgets/base",
            "_model_module_version": "1.5.0",
            "_view_count": null,
            "_view_module_version": "1.2.0",
            "bar_color": null,
            "_model_module": "@jupyter-widgets/controls"
          }
        },
        "54d6dddd00d946e1a67563fa18e8a935": {
          "model_module": "@jupyter-widgets/base",
          "model_name": "LayoutModel",
          "model_module_version": "1.2.0",
          "state": {
            "_view_name": "LayoutView",
            "grid_template_rows": null,
            "right": null,
            "justify_content": null,
            "_view_module": "@jupyter-widgets/base",
            "overflow": null,
            "_model_module_version": "1.2.0",
            "_view_count": null,
            "flex_flow": null,
            "width": null,
            "min_width": null,
            "border": null,
            "align_items": null,
            "bottom": null,
            "_model_module": "@jupyter-widgets/base",
            "top": null,
            "grid_column": null,
            "overflow_y": null,
            "overflow_x": null,
            "grid_auto_flow": null,
            "grid_area": null,
            "grid_template_columns": null,
            "flex": null,
            "_model_name": "LayoutModel",
            "justify_items": null,
            "grid_row": null,
            "max_height": null,
            "align_content": null,
            "visibility": null,
            "align_self": null,
            "height": null,
            "min_height": null,
            "padding": null,
            "grid_auto_rows": null,
            "grid_gap": null,
            "max_width": null,
            "order": null,
            "_view_module_version": "1.2.0",
            "grid_template_areas": null,
            "object_position": null,
            "object_fit": null,
            "grid_auto_columns": null,
            "margin": null,
            "display": null,
            "left": null
          }
        },
        "58f636d09a744fe996e3a5227e757e84": {
          "model_module": "@jupyter-widgets/controls",
          "model_name": "DescriptionStyleModel",
          "model_module_version": "1.5.0",
          "state": {
            "_view_name": "StyleView",
            "_model_name": "DescriptionStyleModel",
            "description_width": "",
            "_view_module": "@jupyter-widgets/base",
            "_model_module_version": "1.5.0",
            "_view_count": null,
            "_view_module_version": "1.2.0",
            "_model_module": "@jupyter-widgets/controls"
          }
        },
        "1346969c866e4c03b36dae5978387678": {
          "model_module": "@jupyter-widgets/base",
          "model_name": "LayoutModel",
          "model_module_version": "1.2.0",
          "state": {
            "_view_name": "LayoutView",
            "grid_template_rows": null,
            "right": null,
            "justify_content": null,
            "_view_module": "@jupyter-widgets/base",
            "overflow": null,
            "_model_module_version": "1.2.0",
            "_view_count": null,
            "flex_flow": null,
            "width": null,
            "min_width": null,
            "border": null,
            "align_items": null,
            "bottom": null,
            "_model_module": "@jupyter-widgets/base",
            "top": null,
            "grid_column": null,
            "overflow_y": null,
            "overflow_x": null,
            "grid_auto_flow": null,
            "grid_area": null,
            "grid_template_columns": null,
            "flex": null,
            "_model_name": "LayoutModel",
            "justify_items": null,
            "grid_row": null,
            "max_height": null,
            "align_content": null,
            "visibility": null,
            "align_self": null,
            "height": null,
            "min_height": null,
            "padding": null,
            "grid_auto_rows": null,
            "grid_gap": null,
            "max_width": null,
            "order": null,
            "_view_module_version": "1.2.0",
            "grid_template_areas": null,
            "object_position": null,
            "object_fit": null,
            "grid_auto_columns": null,
            "margin": null,
            "display": null,
            "left": null
          }
        },
        "3430054bafeb41e088dd2f63f943caa4": {
          "model_module": "@jupyter-widgets/controls",
          "model_name": "HBoxModel",
          "model_module_version": "1.5.0",
          "state": {
            "_view_name": "HBoxView",
            "_dom_classes": [],
            "_model_name": "HBoxModel",
            "_view_module": "@jupyter-widgets/controls",
            "_model_module_version": "1.5.0",
            "_view_count": null,
            "_view_module_version": "1.5.0",
            "box_style": "",
            "layout": "IPY_MODEL_16fb092b18154e199e5a80fb16a5ffe5",
            "_model_module": "@jupyter-widgets/controls",
            "children": [
              "IPY_MODEL_7b27b93dffec4ae2abf7568e502f85e0",
              "IPY_MODEL_f1f4ebee2b8e46a7a08108faf59367f7",
              "IPY_MODEL_21440c7e7adb4296a049f5419e385cd2"
            ]
          }
        },
        "16fb092b18154e199e5a80fb16a5ffe5": {
          "model_module": "@jupyter-widgets/base",
          "model_name": "LayoutModel",
          "model_module_version": "1.2.0",
          "state": {
            "_view_name": "LayoutView",
            "grid_template_rows": null,
            "right": null,
            "justify_content": null,
            "_view_module": "@jupyter-widgets/base",
            "overflow": null,
            "_model_module_version": "1.2.0",
            "_view_count": null,
            "flex_flow": null,
            "width": null,
            "min_width": null,
            "border": null,
            "align_items": null,
            "bottom": null,
            "_model_module": "@jupyter-widgets/base",
            "top": null,
            "grid_column": null,
            "overflow_y": null,
            "overflow_x": null,
            "grid_auto_flow": null,
            "grid_area": null,
            "grid_template_columns": null,
            "flex": null,
            "_model_name": "LayoutModel",
            "justify_items": null,
            "grid_row": null,
            "max_height": null,
            "align_content": null,
            "visibility": null,
            "align_self": null,
            "height": null,
            "min_height": null,
            "padding": null,
            "grid_auto_rows": null,
            "grid_gap": null,
            "max_width": null,
            "order": null,
            "_view_module_version": "1.2.0",
            "grid_template_areas": null,
            "object_position": null,
            "object_fit": null,
            "grid_auto_columns": null,
            "margin": null,
            "display": null,
            "left": null
          }
        },
        "7b27b93dffec4ae2abf7568e502f85e0": {
          "model_module": "@jupyter-widgets/controls",
          "model_name": "HTMLModel",
          "model_module_version": "1.5.0",
          "state": {
            "_view_name": "HTMLView",
            "style": "IPY_MODEL_2b7ef01225794d2990751b7597d9047b",
            "_dom_classes": [],
            "description": "",
            "_model_name": "HTMLModel",
            "placeholder": "​",
            "_view_module": "@jupyter-widgets/controls",
            "_model_module_version": "1.5.0",
            "value": "Downloading https://huggingface.co/stanfordnlp/stanza-en/resolve/v1.3.0/models/default.zip: 100%",
            "_view_count": null,
            "_view_module_version": "1.5.0",
            "description_tooltip": null,
            "_model_module": "@jupyter-widgets/controls",
            "layout": "IPY_MODEL_9e48125cdc2f4013905c881d5cb97c26"
          }
        },
        "f1f4ebee2b8e46a7a08108faf59367f7": {
          "model_module": "@jupyter-widgets/controls",
          "model_name": "FloatProgressModel",
          "model_module_version": "1.5.0",
          "state": {
            "_view_name": "ProgressView",
            "style": "IPY_MODEL_1d8f19c944a0442487c284f853b76103",
            "_dom_classes": [],
            "description": "",
            "_model_name": "FloatProgressModel",
            "bar_style": "success",
            "max": 479531529,
            "_view_module": "@jupyter-widgets/controls",
            "_model_module_version": "1.5.0",
            "value": 479531529,
            "_view_count": null,
            "_view_module_version": "1.5.0",
            "orientation": "horizontal",
            "min": 0,
            "description_tooltip": null,
            "_model_module": "@jupyter-widgets/controls",
            "layout": "IPY_MODEL_cf920de826fe4efabe7384c8e7c67d05"
          }
        },
        "21440c7e7adb4296a049f5419e385cd2": {
          "model_module": "@jupyter-widgets/controls",
          "model_name": "HTMLModel",
          "model_module_version": "1.5.0",
          "state": {
            "_view_name": "HTMLView",
            "style": "IPY_MODEL_91c2d5150fdc4501a669db6f35fdf194",
            "_dom_classes": [],
            "description": "",
            "_model_name": "HTMLModel",
            "placeholder": "​",
            "_view_module": "@jupyter-widgets/controls",
            "_model_module_version": "1.5.0",
            "value": " 480M/480M [00:06&lt;00:00, 71.9MB/s]",
            "_view_count": null,
            "_view_module_version": "1.5.0",
            "description_tooltip": null,
            "_model_module": "@jupyter-widgets/controls",
            "layout": "IPY_MODEL_375ad3c7d61b446a9dc1f4cc4135e0ac"
          }
        },
        "2b7ef01225794d2990751b7597d9047b": {
          "model_module": "@jupyter-widgets/controls",
          "model_name": "DescriptionStyleModel",
          "model_module_version": "1.5.0",
          "state": {
            "_view_name": "StyleView",
            "_model_name": "DescriptionStyleModel",
            "description_width": "",
            "_view_module": "@jupyter-widgets/base",
            "_model_module_version": "1.5.0",
            "_view_count": null,
            "_view_module_version": "1.2.0",
            "_model_module": "@jupyter-widgets/controls"
          }
        },
        "9e48125cdc2f4013905c881d5cb97c26": {
          "model_module": "@jupyter-widgets/base",
          "model_name": "LayoutModel",
          "model_module_version": "1.2.0",
          "state": {
            "_view_name": "LayoutView",
            "grid_template_rows": null,
            "right": null,
            "justify_content": null,
            "_view_module": "@jupyter-widgets/base",
            "overflow": null,
            "_model_module_version": "1.2.0",
            "_view_count": null,
            "flex_flow": null,
            "width": null,
            "min_width": null,
            "border": null,
            "align_items": null,
            "bottom": null,
            "_model_module": "@jupyter-widgets/base",
            "top": null,
            "grid_column": null,
            "overflow_y": null,
            "overflow_x": null,
            "grid_auto_flow": null,
            "grid_area": null,
            "grid_template_columns": null,
            "flex": null,
            "_model_name": "LayoutModel",
            "justify_items": null,
            "grid_row": null,
            "max_height": null,
            "align_content": null,
            "visibility": null,
            "align_self": null,
            "height": null,
            "min_height": null,
            "padding": null,
            "grid_auto_rows": null,
            "grid_gap": null,
            "max_width": null,
            "order": null,
            "_view_module_version": "1.2.0",
            "grid_template_areas": null,
            "object_position": null,
            "object_fit": null,
            "grid_auto_columns": null,
            "margin": null,
            "display": null,
            "left": null
          }
        },
        "1d8f19c944a0442487c284f853b76103": {
          "model_module": "@jupyter-widgets/controls",
          "model_name": "ProgressStyleModel",
          "model_module_version": "1.5.0",
          "state": {
            "_view_name": "StyleView",
            "_model_name": "ProgressStyleModel",
            "description_width": "",
            "_view_module": "@jupyter-widgets/base",
            "_model_module_version": "1.5.0",
            "_view_count": null,
            "_view_module_version": "1.2.0",
            "bar_color": null,
            "_model_module": "@jupyter-widgets/controls"
          }
        },
        "cf920de826fe4efabe7384c8e7c67d05": {
          "model_module": "@jupyter-widgets/base",
          "model_name": "LayoutModel",
          "model_module_version": "1.2.0",
          "state": {
            "_view_name": "LayoutView",
            "grid_template_rows": null,
            "right": null,
            "justify_content": null,
            "_view_module": "@jupyter-widgets/base",
            "overflow": null,
            "_model_module_version": "1.2.0",
            "_view_count": null,
            "flex_flow": null,
            "width": null,
            "min_width": null,
            "border": null,
            "align_items": null,
            "bottom": null,
            "_model_module": "@jupyter-widgets/base",
            "top": null,
            "grid_column": null,
            "overflow_y": null,
            "overflow_x": null,
            "grid_auto_flow": null,
            "grid_area": null,
            "grid_template_columns": null,
            "flex": null,
            "_model_name": "LayoutModel",
            "justify_items": null,
            "grid_row": null,
            "max_height": null,
            "align_content": null,
            "visibility": null,
            "align_self": null,
            "height": null,
            "min_height": null,
            "padding": null,
            "grid_auto_rows": null,
            "grid_gap": null,
            "max_width": null,
            "order": null,
            "_view_module_version": "1.2.0",
            "grid_template_areas": null,
            "object_position": null,
            "object_fit": null,
            "grid_auto_columns": null,
            "margin": null,
            "display": null,
            "left": null
          }
        },
        "91c2d5150fdc4501a669db6f35fdf194": {
          "model_module": "@jupyter-widgets/controls",
          "model_name": "DescriptionStyleModel",
          "model_module_version": "1.5.0",
          "state": {
            "_view_name": "StyleView",
            "_model_name": "DescriptionStyleModel",
            "description_width": "",
            "_view_module": "@jupyter-widgets/base",
            "_model_module_version": "1.5.0",
            "_view_count": null,
            "_view_module_version": "1.2.0",
            "_model_module": "@jupyter-widgets/controls"
          }
        },
        "375ad3c7d61b446a9dc1f4cc4135e0ac": {
          "model_module": "@jupyter-widgets/base",
          "model_name": "LayoutModel",
          "model_module_version": "1.2.0",
          "state": {
            "_view_name": "LayoutView",
            "grid_template_rows": null,
            "right": null,
            "justify_content": null,
            "_view_module": "@jupyter-widgets/base",
            "overflow": null,
            "_model_module_version": "1.2.0",
            "_view_count": null,
            "flex_flow": null,
            "width": null,
            "min_width": null,
            "border": null,
            "align_items": null,
            "bottom": null,
            "_model_module": "@jupyter-widgets/base",
            "top": null,
            "grid_column": null,
            "overflow_y": null,
            "overflow_x": null,
            "grid_auto_flow": null,
            "grid_area": null,
            "grid_template_columns": null,
            "flex": null,
            "_model_name": "LayoutModel",
            "justify_items": null,
            "grid_row": null,
            "max_height": null,
            "align_content": null,
            "visibility": null,
            "align_self": null,
            "height": null,
            "min_height": null,
            "padding": null,
            "grid_auto_rows": null,
            "grid_gap": null,
            "max_width": null,
            "order": null,
            "_view_module_version": "1.2.0",
            "grid_template_areas": null,
            "object_position": null,
            "object_fit": null,
            "grid_auto_columns": null,
            "margin": null,
            "display": null,
            "left": null
          }
        }
      }
    }
  },
  "cells": [
    {
      "cell_type": "markdown",
      "metadata": {
        "id": "IatDbdg7BrYh"
      },
      "source": [
        "### An Introduction to Part of Speech Tagging, Treebanks and Universial Dependencies"
      ]
    },
    {
      "cell_type": "markdown",
      "metadata": {
        "id": "NZqUimopB33G"
      },
      "source": [
        "# Imports"
      ]
    },
    {
      "cell_type": "code",
      "metadata": {
        "colab": {
          "base_uri": "https://localhost:8080/"
        },
        "id": "5swa7iLBp0y5",
        "outputId": "46937836-8ec7-42a2-fa12-29466c109e8f"
      },
      "source": [
        "!pip install stanza\n",
        "\n",
        "import zipfile\n",
        "from bs4 import BeautifulSoup\n",
        "import stanza\n",
        "from stanza.utils.conll import CoNLL\n",
        "import pandas as pd\n",
        "import numpy as np"
      ],
      "execution_count": null,
      "outputs": [
        {
          "output_type": "stream",
          "name": "stdout",
          "text": [
            "Collecting stanza\n",
            "  Downloading stanza-1.3.0-py3-none-any.whl (432 kB)\n",
            "\u001b[K     |████████████████████████████████| 432 kB 4.4 MB/s \n",
            "\u001b[?25hRequirement already satisfied: tqdm in /usr/local/lib/python3.7/dist-packages (from stanza) (4.62.3)\n",
            "Requirement already satisfied: torch>=1.3.0 in /usr/local/lib/python3.7/dist-packages (from stanza) (1.10.0+cu111)\n",
            "Requirement already satisfied: protobuf in /usr/local/lib/python3.7/dist-packages (from stanza) (3.17.3)\n",
            "Requirement already satisfied: requests in /usr/local/lib/python3.7/dist-packages (from stanza) (2.23.0)\n",
            "Requirement already satisfied: six in /usr/local/lib/python3.7/dist-packages (from stanza) (1.15.0)\n",
            "Requirement already satisfied: numpy in /usr/local/lib/python3.7/dist-packages (from stanza) (1.19.5)\n",
            "Collecting emoji\n",
            "  Downloading emoji-1.6.1.tar.gz (170 kB)\n",
            "\u001b[K     |████████████████████████████████| 170 kB 7.8 MB/s \n",
            "\u001b[?25hRequirement already satisfied: typing-extensions in /usr/local/lib/python3.7/dist-packages (from torch>=1.3.0->stanza) (3.10.0.2)\n",
            "Requirement already satisfied: certifi>=2017.4.17 in /usr/local/lib/python3.7/dist-packages (from requests->stanza) (2021.10.8)\n",
            "Requirement already satisfied: urllib3!=1.25.0,!=1.25.1,<1.26,>=1.21.1 in /usr/local/lib/python3.7/dist-packages (from requests->stanza) (1.24.3)\n",
            "Requirement already satisfied: chardet<4,>=3.0.2 in /usr/local/lib/python3.7/dist-packages (from requests->stanza) (3.0.4)\n",
            "Requirement already satisfied: idna<3,>=2.5 in /usr/local/lib/python3.7/dist-packages (from requests->stanza) (2.10)\n",
            "Building wheels for collected packages: emoji\n",
            "  Building wheel for emoji (setup.py) ... \u001b[?25l\u001b[?25hdone\n",
            "  Created wheel for emoji: filename=emoji-1.6.1-py3-none-any.whl size=169314 sha256=60f3e45786d7be5e178416684623577ac181d3e6df2e6c034467375377ea4d16\n",
            "  Stored in directory: /root/.cache/pip/wheels/ea/5f/d3/03d313ddb3c2a1a427bb4690f1621eea60fe6f2a30cc95940f\n",
            "Successfully built emoji\n",
            "Installing collected packages: emoji, stanza\n",
            "Successfully installed emoji-1.6.1 stanza-1.3.0\n"
          ]
        }
      ]
    },
    {
      "cell_type": "markdown",
      "metadata": {
        "id": "yNH-SiA3CFXy"
      },
      "source": [
        "# Text read-in and Stanza"
      ]
    },
    {
      "cell_type": "code",
      "metadata": {
        "colab": {
          "base_uri": "https://localhost:8080/"
        },
        "id": "KHFsGRY192qS",
        "outputId": "7cdbc708-8a28-465c-e539-9730904aeea2"
      },
      "source": [
        "## Get texts from my github\n",
        "!wget https://raw.githubusercontent.com/pnadelofficial/FallDHCourseMaterials/main/gibbon_by_paragraph.csv ## CSV of the Gibbon text divided into paragraph\n",
        "!wget https://raw.githubusercontent.com/pnadelofficial/FallDHCourseMaterials/main/gibbonfortm.xml ## Original XML file"
      ],
      "execution_count": null,
      "outputs": [
        {
          "output_type": "stream",
          "name": "stdout",
          "text": [
            "--2021-12-22 21:25:38--  https://raw.githubusercontent.com/pnadelofficial/FallDHCourseMaterials/main/gibbon_by_paragraph.csv\n",
            "Resolving raw.githubusercontent.com (raw.githubusercontent.com)... 185.199.108.133, 185.199.109.133, 185.199.110.133, ...\n",
            "Connecting to raw.githubusercontent.com (raw.githubusercontent.com)|185.199.108.133|:443... connected.\n",
            "HTTP request sent, awaiting response... 200 OK\n",
            "Length: 6471147 (6.2M) [text/plain]\n",
            "Saving to: ‘gibbon_by_paragraph.csv’\n",
            "\n",
            "\rgibbon_by_paragraph   0%[                    ]       0  --.-KB/s               \rgibbon_by_paragraph 100%[===================>]   6.17M  --.-KB/s    in 0.03s   \n",
            "\n",
            "2021-12-22 21:25:38 (217 MB/s) - ‘gibbon_by_paragraph.csv’ saved [6471147/6471147]\n",
            "\n",
            "--2021-12-22 21:25:38--  https://raw.githubusercontent.com/pnadelofficial/FallDHCourseMaterials/main/gibbonfortm.xml\n",
            "Resolving raw.githubusercontent.com (raw.githubusercontent.com)... 185.199.108.133, 185.199.109.133, 185.199.110.133, ...\n",
            "Connecting to raw.githubusercontent.com (raw.githubusercontent.com)|185.199.108.133|:443... connected.\n",
            "HTTP request sent, awaiting response... 200 OK\n",
            "Length: 10542769 (10M) [text/plain]\n",
            "Saving to: ‘gibbonfortm.xml’\n",
            "\n",
            "gibbonfortm.xml     100%[===================>]  10.05M  --.-KB/s    in 0.05s   \n",
            "\n",
            "2021-12-22 21:25:38 (200 MB/s) - ‘gibbonfortm.xml’ saved [10542769/10542769]\n",
            "\n"
          ]
        }
      ]
    },
    {
      "cell_type": "code",
      "metadata": {
        "colab": {
          "base_uri": "https://localhost:8080/",
          "height": 423
        },
        "id": "d3iPHgNwh5U1",
        "outputId": "a62b9e1a-aead-414e-8662-e112c10e9479"
      },
      "source": [
        "gibbon_text = pd.read_csv('/content/gibbon_by_paragraph.csv', index_col=0) ## The Decline and Fall in paragraphs\n",
        "gibbon_text "
      ],
      "execution_count": null,
      "outputs": [
        {
          "output_type": "execute_result",
          "data": {
            "text/html": [
              "\n",
              "  <div id=\"df-63d28f96-f51f-4e2b-a93b-28209619878d\">\n",
              "    <div class=\"colab-df-container\">\n",
              "      <div>\n",
              "<style scoped>\n",
              "    .dataframe tbody tr th:only-of-type {\n",
              "        vertical-align: middle;\n",
              "    }\n",
              "\n",
              "    .dataframe tbody tr th {\n",
              "        vertical-align: top;\n",
              "    }\n",
              "\n",
              "    .dataframe thead th {\n",
              "        text-align: right;\n",
              "    }\n",
              "</style>\n",
              "<table border=\"1\" class=\"dataframe\">\n",
              "  <thead>\n",
              "    <tr style=\"text-align: right;\">\n",
              "      <th></th>\n",
              "      <th>StringText</th>\n",
              "    </tr>\n",
              "  </thead>\n",
              "  <tbody>\n",
              "    <tr>\n",
              "      <th>Paragraph 1</th>\n",
              "      <td>In the second century of the Christian era, th...</td>\n",
              "    </tr>\n",
              "    <tr>\n",
              "      <th>Paragraph 2</th>\n",
              "      <td>The principal conquests of the Romans were ach...</td>\n",
              "    </tr>\n",
              "    <tr>\n",
              "      <th>Paragraph 3</th>\n",
              "      <td>His generals, in the early part of his reign, ...</td>\n",
              "    </tr>\n",
              "    <tr>\n",
              "      <th>Paragraph 4</th>\n",
              "      <td>Happily for the repose of mankind, the moderat...</td>\n",
              "    </tr>\n",
              "    <tr>\n",
              "      <th>Paragraph 5</th>\n",
              "      <td>The only accession which the Roman empire rece...</td>\n",
              "    </tr>\n",
              "    <tr>\n",
              "      <th>...</th>\n",
              "      <td>...</td>\n",
              "    </tr>\n",
              "    <tr>\n",
              "      <th>Paragraph 2172</th>\n",
              "      <td>The abolition at Rome of the ancient games mus...</td>\n",
              "    </tr>\n",
              "    <tr>\n",
              "      <th>Paragraph 2173</th>\n",
              "      <td>This use of the amphitheatre was a rare, perha...</td>\n",
              "    </tr>\n",
              "    <tr>\n",
              "      <th>Paragraph 2174</th>\n",
              "      <td>When Petrarch first gratified his eyes with a ...</td>\n",
              "    </tr>\n",
              "    <tr>\n",
              "      <th>Paragraph 2175</th>\n",
              "      <td>But the clouds of Barbarism were gradually dis...</td>\n",
              "    </tr>\n",
              "    <tr>\n",
              "      <th>Paragraph 2176</th>\n",
              "      <td>Of these pilgrims, and of every reader, the at...</td>\n",
              "    </tr>\n",
              "  </tbody>\n",
              "</table>\n",
              "<p>2176 rows × 1 columns</p>\n",
              "</div>\n",
              "      <button class=\"colab-df-convert\" onclick=\"convertToInteractive('df-63d28f96-f51f-4e2b-a93b-28209619878d')\"\n",
              "              title=\"Convert this dataframe to an interactive table.\"\n",
              "              style=\"display:none;\">\n",
              "        \n",
              "  <svg xmlns=\"http://www.w3.org/2000/svg\" height=\"24px\"viewBox=\"0 0 24 24\"\n",
              "       width=\"24px\">\n",
              "    <path d=\"M0 0h24v24H0V0z\" fill=\"none\"/>\n",
              "    <path d=\"M18.56 5.44l.94 2.06.94-2.06 2.06-.94-2.06-.94-.94-2.06-.94 2.06-2.06.94zm-11 1L8.5 8.5l.94-2.06 2.06-.94-2.06-.94L8.5 2.5l-.94 2.06-2.06.94zm10 10l.94 2.06.94-2.06 2.06-.94-2.06-.94-.94-2.06-.94 2.06-2.06.94z\"/><path d=\"M17.41 7.96l-1.37-1.37c-.4-.4-.92-.59-1.43-.59-.52 0-1.04.2-1.43.59L10.3 9.45l-7.72 7.72c-.78.78-.78 2.05 0 2.83L4 21.41c.39.39.9.59 1.41.59.51 0 1.02-.2 1.41-.59l7.78-7.78 2.81-2.81c.8-.78.8-2.07 0-2.86zM5.41 20L4 18.59l7.72-7.72 1.47 1.35L5.41 20z\"/>\n",
              "  </svg>\n",
              "      </button>\n",
              "      \n",
              "  <style>\n",
              "    .colab-df-container {\n",
              "      display:flex;\n",
              "      flex-wrap:wrap;\n",
              "      gap: 12px;\n",
              "    }\n",
              "\n",
              "    .colab-df-convert {\n",
              "      background-color: #E8F0FE;\n",
              "      border: none;\n",
              "      border-radius: 50%;\n",
              "      cursor: pointer;\n",
              "      display: none;\n",
              "      fill: #1967D2;\n",
              "      height: 32px;\n",
              "      padding: 0 0 0 0;\n",
              "      width: 32px;\n",
              "    }\n",
              "\n",
              "    .colab-df-convert:hover {\n",
              "      background-color: #E2EBFA;\n",
              "      box-shadow: 0px 1px 2px rgba(60, 64, 67, 0.3), 0px 1px 3px 1px rgba(60, 64, 67, 0.15);\n",
              "      fill: #174EA6;\n",
              "    }\n",
              "\n",
              "    [theme=dark] .colab-df-convert {\n",
              "      background-color: #3B4455;\n",
              "      fill: #D2E3FC;\n",
              "    }\n",
              "\n",
              "    [theme=dark] .colab-df-convert:hover {\n",
              "      background-color: #434B5C;\n",
              "      box-shadow: 0px 1px 3px 1px rgba(0, 0, 0, 0.15);\n",
              "      filter: drop-shadow(0px 1px 2px rgba(0, 0, 0, 0.3));\n",
              "      fill: #FFFFFF;\n",
              "    }\n",
              "  </style>\n",
              "\n",
              "      <script>\n",
              "        const buttonEl =\n",
              "          document.querySelector('#df-63d28f96-f51f-4e2b-a93b-28209619878d button.colab-df-convert');\n",
              "        buttonEl.style.display =\n",
              "          google.colab.kernel.accessAllowed ? 'block' : 'none';\n",
              "\n",
              "        async function convertToInteractive(key) {\n",
              "          const element = document.querySelector('#df-63d28f96-f51f-4e2b-a93b-28209619878d');\n",
              "          const dataTable =\n",
              "            await google.colab.kernel.invokeFunction('convertToInteractive',\n",
              "                                                     [key], {});\n",
              "          if (!dataTable) return;\n",
              "\n",
              "          const docLinkHtml = 'Like what you see? Visit the ' +\n",
              "            '<a target=\"_blank\" href=https://colab.research.google.com/notebooks/data_table.ipynb>data table notebook</a>'\n",
              "            + ' to learn more about interactive tables.';\n",
              "          element.innerHTML = '';\n",
              "          dataTable['output_type'] = 'display_data';\n",
              "          await google.colab.output.renderOutput(dataTable, element);\n",
              "          const docLink = document.createElement('div');\n",
              "          docLink.innerHTML = docLinkHtml;\n",
              "          element.appendChild(docLink);\n",
              "        }\n",
              "      </script>\n",
              "    </div>\n",
              "  </div>\n",
              "  "
            ],
            "text/plain": [
              "                                                       StringText\n",
              "Paragraph 1     In the second century of the Christian era, th...\n",
              "Paragraph 2     The principal conquests of the Romans were ach...\n",
              "Paragraph 3     His generals, in the early part of his reign, ...\n",
              "Paragraph 4     Happily for the repose of mankind, the moderat...\n",
              "Paragraph 5     The only accession which the Roman empire rece...\n",
              "...                                                           ...\n",
              "Paragraph 2172  The abolition at Rome of the ancient games mus...\n",
              "Paragraph 2173  This use of the amphitheatre was a rare, perha...\n",
              "Paragraph 2174  When Petrarch first gratified his eyes with a ...\n",
              "Paragraph 2175  But the clouds of Barbarism were gradually dis...\n",
              "Paragraph 2176  Of these pilgrims, and of every reader, the at...\n",
              "\n",
              "[2176 rows x 1 columns]"
            ]
          },
          "metadata": {},
          "execution_count": 4
        }
      ]
    },
    {
      "cell_type": "code",
      "metadata": {
        "colab": {
          "base_uri": "https://localhost:8080/",
          "height": 394,
          "referenced_widgets": [
            "f6e8e2553df04556ad5b214a97e8aa65",
            "ce53229e4e5b420f84fc12df0b0a74d3",
            "4afff6d8315649568fab3d380c5cb58e",
            "d6aad607f54c4627a78cbf9e85b88afd",
            "6d07f48975e243309d35101980329b2c",
            "e75b5a053b0747b6b1a2756c5a914f99",
            "3871ff4e47d54932a6ce6928418e6daa",
            "d4409f2f60984a7194d1ed2528444288",
            "54d6dddd00d946e1a67563fa18e8a935",
            "58f636d09a744fe996e3a5227e757e84",
            "1346969c866e4c03b36dae5978387678",
            "3430054bafeb41e088dd2f63f943caa4",
            "16fb092b18154e199e5a80fb16a5ffe5",
            "7b27b93dffec4ae2abf7568e502f85e0",
            "f1f4ebee2b8e46a7a08108faf59367f7",
            "21440c7e7adb4296a049f5419e385cd2",
            "2b7ef01225794d2990751b7597d9047b",
            "9e48125cdc2f4013905c881d5cb97c26",
            "1d8f19c944a0442487c284f853b76103",
            "cf920de826fe4efabe7384c8e7c67d05",
            "91c2d5150fdc4501a669db6f35fdf194",
            "375ad3c7d61b446a9dc1f4cc4135e0ac"
          ]
        },
        "id": "4fjV9xC1qPa4",
        "outputId": "b3da0dc8-6b17-49cf-9967-920d2536a5f9"
      },
      "source": [
        "stanza.download('en')\n",
        "nlp = stanza.Pipeline('en', processors='tokenize,pos,lemma,depparse')"
      ],
      "execution_count": null,
      "outputs": [
        {
          "output_type": "display_data",
          "data": {
            "application/vnd.jupyter.widget-view+json": {
              "model_id": "f6e8e2553df04556ad5b214a97e8aa65",
              "version_minor": 0,
              "version_major": 2
            },
            "text/plain": [
              "Downloading https://raw.githubusercontent.com/stanfordnlp/stanza-resources/main/resources_1.3.0.json:   0%|   …"
            ]
          },
          "metadata": {}
        },
        {
          "output_type": "stream",
          "name": "stderr",
          "text": [
            "2021-12-22 21:25:39 INFO: Downloading default packages for language: en (English)...\n"
          ]
        },
        {
          "output_type": "display_data",
          "data": {
            "application/vnd.jupyter.widget-view+json": {
              "model_id": "3430054bafeb41e088dd2f63f943caa4",
              "version_minor": 0,
              "version_major": 2
            },
            "text/plain": [
              "Downloading https://huggingface.co/stanfordnlp/stanza-en/resolve/v1.3.0/models/default.zip:   0%|          | 0…"
            ]
          },
          "metadata": {}
        },
        {
          "output_type": "stream",
          "name": "stderr",
          "text": [
            "2021-12-22 21:26:00 INFO: Finished downloading models and saved to /root/stanza_resources.\n",
            "2021-12-22 21:26:00 INFO: Loading these models for language: en (English):\n",
            "========================\n",
            "| Processor | Package  |\n",
            "------------------------\n",
            "| tokenize  | combined |\n",
            "| pos       | combined |\n",
            "| lemma     | combined |\n",
            "| depparse  | combined |\n",
            "========================\n",
            "\n",
            "2021-12-22 21:26:00 INFO: Use device: cpu\n",
            "2021-12-22 21:26:00 INFO: Loading: tokenize\n",
            "2021-12-22 21:26:00 INFO: Loading: pos\n",
            "2021-12-22 21:26:00 INFO: Loading: lemma\n",
            "2021-12-22 21:26:00 INFO: Loading: depparse\n",
            "2021-12-22 21:26:01 INFO: Done loading processors!\n"
          ]
        }
      ]
    },
    {
      "cell_type": "code",
      "metadata": {
        "colab": {
          "base_uri": "https://localhost:8080/",
          "height": 122
        },
        "id": "KOZe49Xiit8h",
        "outputId": "6ae2104c-f82b-427b-ee7c-7fdae711c211"
      },
      "source": [
        "gibbon_text['StringText'][2]"
      ],
      "execution_count": null,
      "outputs": [
        {
          "output_type": "execute_result",
          "data": {
            "application/vnd.google.colaboratory.intrinsic+json": {
              "type": "string"
            },
            "text/plain": [
              "'His generals, in the early part of his reign, attempted the reduction of Aethiopia and Arabia Felix. They marched near a thousand miles to the south of the tropic; but the heat of the climate soon repelled the invaders and protected the unwarlike natives of those sequestered regions. The northern  countries of Europe scarcely deserved the expense and labour of conquest. The forests and morasses of Germany were filled with a hardy race of barbarians, who despised life when it was separated from freedom; and though, on the first attack, they seemed to yield to the weight of the Roman power, they soon, by a signal act of despair, regained their independence, and reminded Augustus of the vicissitude of fortune. On the death of that emperor his testament was publicly read in the senate. He bequeathed, as a valuable legacy to his successors, the advice of confining the empire within those limits which nature seemed to have placed as its permanent bulwarks and boundaries; on the west the Atlantic Ocean; the Rhine and Danube on the north; the Euphrates on the east; and towards the south the sandy deserts of Arabia and Africa.'"
            ]
          },
          "metadata": {},
          "execution_count": 6
        }
      ]
    },
    {
      "cell_type": "code",
      "metadata": {
        "id": "9XvWB1PnjJsp"
      },
      "source": [
        "doc_p2 = nlp(gibbon_text['StringText'][2])"
      ],
      "execution_count": null,
      "outputs": []
    },
    {
      "cell_type": "markdown",
      "metadata": {
        "id": "fO9Ar6H0kpbW"
      },
      "source": [
        "##  This is a 'Document' object. \n",
        " \n",
        "\n",
        "*   ```\n",
        "# doc.text\n",
        "    ```\n",
        "returns the raw text of the document\n",
        "\n",
        "*   ```\n",
        "# doc.sentences\n",
        "    ```\n",
        "returns each sentence of the document as Sentence objects\n",
        "\n",
        "*   ```\n",
        "# doc.entities\n",
        "    ```\n",
        "returns a list of named entities\n",
        "\n",
        "*   ```\n",
        "# doc.tokens or doc.words  \n",
        "    ```\n",
        "returns the number of tokens or words in the document\n",
        "\n",
        "\n"
      ]
    },
    {
      "cell_type": "code",
      "metadata": {
        "id": "paorW2CGjU9r"
      },
      "source": [
        "doc_p2"
      ],
      "execution_count": null,
      "outputs": []
    },
    {
      "cell_type": "markdown",
      "metadata": {
        "id": "4KrhUUtem0QO"
      },
      "source": [
        "## This is a 'Sentence' object."
      ]
    },
    {
      "cell_type": "code",
      "metadata": {
        "colab": {
          "base_uri": "https://localhost:8080/",
          "height": 35
        },
        "id": "H68NHAXHmzrR",
        "outputId": "a4e7685a-b40c-49c0-da5e-82c95c6ae66f"
      },
      "source": [
        "first_sentence = doc_p2.sentences[0]\n",
        "first_sentence.text ## Again, returns the text."
      ],
      "execution_count": null,
      "outputs": [
        {
          "output_type": "execute_result",
          "data": {
            "application/vnd.google.colaboratory.intrinsic+json": {
              "type": "string"
            },
            "text/plain": [
              "'His generals, in the early part of his reign, attempted the reduction of Aethiopia and Arabia Felix.'"
            ]
          },
          "metadata": {},
          "execution_count": 9
        }
      ]
    },
    {
      "cell_type": "code",
      "metadata": {
        "colab": {
          "base_uri": "https://localhost:8080/"
        },
        "id": "wx_uL7Caqn7b",
        "outputId": "e4a91598-6d4f-4706-836c-415fabef32ac"
      },
      "source": [
        "first_word = first_sentence.words[0]\n",
        "first_word"
      ],
      "execution_count": null,
      "outputs": [
        {
          "output_type": "execute_result",
          "data": {
            "text/plain": [
              "{\n",
              "  \"id\": 1,\n",
              "  \"text\": \"His\",\n",
              "  \"lemma\": \"his\",\n",
              "  \"upos\": \"PRON\",\n",
              "  \"xpos\": \"PRP$\",\n",
              "  \"feats\": \"Gender=Masc|Number=Sing|Person=3|Poss=Yes|PronType=Prs\",\n",
              "  \"head\": 2,\n",
              "  \"deprel\": \"nmod:poss\",\n",
              "  \"start_char\": 0,\n",
              "  \"end_char\": 3\n",
              "}"
            ]
          },
          "metadata": {},
          "execution_count": 10
        }
      ]
    },
    {
      "cell_type": "code",
      "metadata": {
        "colab": {
          "base_uri": "https://localhost:8080/"
        },
        "id": "fdYnAvOdsPmi",
        "outputId": "4d1e3ef0-5c0e-4876-defa-0a4580f28f6f"
      },
      "source": [
        "first_token = first_sentence.tokens[0]\n",
        "first_token"
      ],
      "execution_count": null,
      "outputs": [
        {
          "output_type": "execute_result",
          "data": {
            "text/plain": [
              "[\n",
              "  {\n",
              "    \"id\": 1,\n",
              "    \"text\": \"His\",\n",
              "    \"lemma\": \"his\",\n",
              "    \"upos\": \"PRON\",\n",
              "    \"xpos\": \"PRP$\",\n",
              "    \"feats\": \"Gender=Masc|Number=Sing|Person=3|Poss=Yes|PronType=Prs\",\n",
              "    \"head\": 2,\n",
              "    \"deprel\": \"nmod:poss\",\n",
              "    \"start_char\": 0,\n",
              "    \"end_char\": 3\n",
              "  }\n",
              "]"
            ]
          },
          "metadata": {},
          "execution_count": 11
        }
      ]
    },
    {
      "cell_type": "markdown",
      "metadata": {
        "id": "HdETIadjpCj_"
      },
      "source": [
        "## This is a 'Word' object\n",
        "Each value represents a grammatical catagory of language. Always be aware of what language model you are using. "
      ]
    },
    {
      "cell_type": "code",
      "metadata": {
        "colab": {
          "base_uri": "https://localhost:8080/"
        },
        "id": "qzzvXIynpBwV",
        "outputId": "8c0e5ca2-baaa-4299-c5bf-b93acda48eac"
      },
      "source": [
        "first_word.id, first_word.text, first_word.lemma ## The word's ID, the tex and the 'lemma' "
      ],
      "execution_count": null,
      "outputs": [
        {
          "output_type": "execute_result",
          "data": {
            "text/plain": [
              "(1, 'His', 'his')"
            ]
          },
          "metadata": {},
          "execution_count": 12
        }
      ]
    },
    {
      "cell_type": "code",
      "metadata": {
        "colab": {
          "base_uri": "https://localhost:8080/"
        },
        "id": "-VtFbvPQoXn6",
        "outputId": "9421c444-d6a7-4d24-afb2-bd533bf77118"
      },
      "source": [
        "## Part of Speech tagging (may see this online as just POS) for the word: UPOS\n",
        "print(first_word.upos) ## Return a very general part of speech description. Here, this word 'His' is identified as a pronoun.\n",
        "\n",
        "print('\\n')\n",
        "\n",
        "print(first_sentence.words[1].upos) ## Here the second word 'general' is identified as a noun. \n",
        "\n",
        "print('\\n')\n",
        "\n",
        "for word in first_sentence.words: ## In fact we can iterate through the whole list.\n",
        "  print(word.upos)"
      ],
      "execution_count": null,
      "outputs": [
        {
          "output_type": "stream",
          "name": "stdout",
          "text": [
            "PRON\n",
            "\n",
            "\n",
            "NOUN\n",
            "\n",
            "\n",
            "PRON\n",
            "NOUN\n",
            "PUNCT\n",
            "ADP\n",
            "DET\n",
            "ADJ\n",
            "NOUN\n",
            "ADP\n",
            "PRON\n",
            "NOUN\n",
            "PUNCT\n",
            "VERB\n",
            "DET\n",
            "NOUN\n",
            "ADP\n",
            "PROPN\n",
            "CCONJ\n",
            "PROPN\n",
            "PROPN\n",
            "PUNCT\n"
          ]
        }
      ]
    },
    {
      "cell_type": "code",
      "metadata": {
        "colab": {
          "base_uri": "https://localhost:8080/"
        },
        "id": "iyidz6q8vsEU",
        "outputId": "8407993f-0605-4361-f910-577e6b11a1f6"
      },
      "source": [
        "## XPOS\n",
        "first_word.xpos ## Return a different form of part of speech description. Here, this word 'His' is identified as a 'PRP$'.\n",
        "\n",
        "print('\\n')\n",
        "\n",
        "## These part of speech tags provide a more detailed look at the grammatical structure. Here is a link from University of Pennsylvania \n",
        "## that shows what each abbreviation stands for: https://www.ling.upenn.edu/courses/Fall_2003/ling001/penn_treebank_pos.html,\n",
        "## and, if you are interested, here is the original paper describing the project: https://repository.upenn.edu/cgi/viewcontent.cgi?article=1603&context=cis_reports.\n",
        "\n",
        "for word in first_sentence.words:\n",
        "  print(word.xpos)"
      ],
      "execution_count": null,
      "outputs": [
        {
          "output_type": "stream",
          "name": "stdout",
          "text": [
            "\n",
            "\n",
            "PRP$\n",
            "NNS\n",
            ",\n",
            "IN\n",
            "DT\n",
            "JJ\n",
            "NN\n",
            "IN\n",
            "PRP$\n",
            "NN\n",
            ",\n",
            "VBD\n",
            "DT\n",
            "NN\n",
            "IN\n",
            "NNP\n",
            "CC\n",
            "NNP\n",
            "NNP\n",
            ".\n"
          ]
        }
      ]
    },
    {
      "cell_type": "code",
      "metadata": {
        "colab": {
          "base_uri": "https://localhost:8080/"
        },
        "id": "BxFX7cWTFEOP",
        "outputId": "d5eb8272-2f10-499c-a34c-d8dff063fdcd"
      },
      "source": [
        "print(first_sentence.text)\n",
        "print('\\n')\n",
        "\n",
        "for word in first_sentence.words:\n",
        "  print(f'{word.text} ({word.lemma}):\\t{word.upos}, {word.xpos}')"
      ],
      "execution_count": null,
      "outputs": [
        {
          "output_type": "stream",
          "name": "stdout",
          "text": [
            "His generals, in the early part of his reign, attempted the reduction of Aethiopia and Arabia Felix.\n",
            "\n",
            "\n",
            "His (his):\tPRON, PRP$\n",
            "generals (general):\tNOUN, NNS\n",
            ", (,):\tPUNCT, ,\n",
            "in (in):\tADP, IN\n",
            "the (the):\tDET, DT\n",
            "early (early):\tADJ, JJ\n",
            "part (part):\tNOUN, NN\n",
            "of (of):\tADP, IN\n",
            "his (he):\tPRON, PRP$\n",
            "reign (reign):\tNOUN, NN\n",
            ", (,):\tPUNCT, ,\n",
            "attempted (attempt):\tVERB, VBD\n",
            "the (the):\tDET, DT\n",
            "reduction (reduction):\tNOUN, NN\n",
            "of (of):\tADP, IN\n",
            "Aethiopia (Aethiopia):\tPROPN, NNP\n",
            "and (and):\tCCONJ, CC\n",
            "Arabia (Arabia):\tPROPN, NNP\n",
            "Felix (Felix):\tPROPN, NNP\n",
            ". (.):\tPUNCT, .\n"
          ]
        }
      ]
    },
    {
      "cell_type": "code",
      "metadata": {
        "colab": {
          "base_uri": "https://localhost:8080/"
        },
        "id": "tjc0qkkwFiOz",
        "outputId": "36f638bc-afbb-4cd4-881b-c2f82263c434"
      },
      "source": [
        "fifth_sentence = doc_p2.sentences[4]\n",
        "print(fifth_sentence.text)\n",
        "print('\\n')\n",
        "\n",
        "for word in fifth_sentence.words:\n",
        "  print(f'{word.text} ({word.lemma}):\\t{word.upos}, {word.xpos}')"
      ],
      "execution_count": null,
      "outputs": [
        {
          "output_type": "stream",
          "name": "stdout",
          "text": [
            "On the death of that emperor his testament was publicly read in the senate.\n",
            "\n",
            "\n",
            "On (on):\tADP, IN\n",
            "the (the):\tDET, DT\n",
            "death (death):\tNOUN, NN\n",
            "of (of):\tADP, IN\n",
            "that (that):\tDET, DT\n",
            "emperor (emperor):\tNOUN, NN\n",
            "his (he):\tPRON, PRP$\n",
            "testament (testament):\tNOUN, NN\n",
            "was (be):\tAUX, VBD\n",
            "publicly (publicly):\tADV, RB\n",
            "read (read):\tVERB, VBN\n",
            "in (in):\tADP, IN\n",
            "the (the):\tDET, DT\n",
            "senate (senate):\tNOUN, NN\n",
            ". (.):\tPUNCT, .\n"
          ]
        }
      ]
    },
    {
      "cell_type": "code",
      "metadata": {
        "id": "fGFLKCugF-ah"
      },
      "source": [
        "## searching using a lemma and xpos\n",
        "for sentence in doc_p2.sentences:\n",
        "  for word in sentence.words:\n",
        "    if (word.lemma == 'be') and (word.xpos == 'VB'):\n",
        "      print((word, sentence.text)) "
      ],
      "execution_count": null,
      "outputs": []
    },
    {
      "cell_type": "code",
      "metadata": {
        "colab": {
          "base_uri": "https://localhost:8080/"
        },
        "id": "8MCXdNWtIeq2",
        "outputId": "08b0d7c0-5b07-4419-8bf6-ff4fd71ccd5a"
      },
      "source": [
        "## compare to above\n",
        "for sentence in doc_p2.sentences:\n",
        "  for word in sentence.words:\n",
        "    if (word.lemma == 'be') and (word.xpos == 'VBD'):\n",
        "      print((word, sentence.text)) "
      ],
      "execution_count": null,
      "outputs": [
        {
          "output_type": "stream",
          "name": "stdout",
          "text": [
            "({\n",
            "  \"id\": 7,\n",
            "  \"text\": \"were\",\n",
            "  \"lemma\": \"be\",\n",
            "  \"upos\": \"AUX\",\n",
            "  \"xpos\": \"VBD\",\n",
            "  \"feats\": \"Mood=Ind|Tense=Past|VerbForm=Fin\",\n",
            "  \"head\": 8,\n",
            "  \"deprel\": \"aux:pass\",\n",
            "  \"start_char\": 409,\n",
            "  \"end_char\": 413\n",
            "}, 'The forests and morasses of Germany were filled with a hardy race of barbarians, who despised life when it was separated from freedom; and though, on the first attack, they seemed to yield to the weight of the Roman power, they soon, by a signal act of despair, regained their independence, and reminded Augustus of the vicissitude of fortune.')\n",
            "({\n",
            "  \"id\": 21,\n",
            "  \"text\": \"was\",\n",
            "  \"lemma\": \"be\",\n",
            "  \"upos\": \"AUX\",\n",
            "  \"xpos\": \"VBD\",\n",
            "  \"feats\": \"Mood=Ind|Number=Sing|Person=3|Tense=Past|VerbForm=Fin\",\n",
            "  \"head\": 22,\n",
            "  \"deprel\": \"aux:pass\",\n",
            "  \"start_char\": 480,\n",
            "  \"end_char\": 483\n",
            "}, 'The forests and morasses of Germany were filled with a hardy race of barbarians, who despised life when it was separated from freedom; and though, on the first attack, they seemed to yield to the weight of the Roman power, they soon, by a signal act of despair, regained their independence, and reminded Augustus of the vicissitude of fortune.')\n",
            "({\n",
            "  \"id\": 9,\n",
            "  \"text\": \"was\",\n",
            "  \"lemma\": \"be\",\n",
            "  \"upos\": \"AUX\",\n",
            "  \"xpos\": \"VBD\",\n",
            "  \"feats\": \"Mood=Ind|Number=Sing|Person=3|Tense=Past|VerbForm=Fin\",\n",
            "  \"head\": 11,\n",
            "  \"deprel\": \"aux:pass\",\n",
            "  \"start_char\": 760,\n",
            "  \"end_char\": 763\n",
            "}, 'On the death of that emperor his testament was publicly read in the senate.')\n"
          ]
        }
      ]
    },
    {
      "cell_type": "markdown",
      "metadata": {
        "id": "qP_NebJb8Obi"
      },
      "source": [
        "## An introduction to Universal Dependencies"
      ]
    },
    {
      "cell_type": "code",
      "metadata": {
        "colab": {
          "base_uri": "https://localhost:8080/"
        },
        "id": "nSpiFv5ixm-g",
        "outputId": "53827c65-7d3d-421d-8bcd-85e8c1da461a"
      },
      "source": [
        "## Dependency Relation or .deprel\n",
        "print(first_word.deprel) ## Return a Universal Dependency part of speech description. Here, this word 'His' is identified as a 'nmod:poss'.\n",
        "\n",
        "## This means it is a nominal modifier and possessive. These Universal Dependency tags correspond with agreed upon categories for parsing\n",
        "## grammatical structure in text. Look into the English Universal Dependency documentation: https://universaldependencies.org/en/dep/index.html.\n",
        "## The greatest value of Universal Dependency is that they express detail about the word as well as about the word which it modifies, its so called 'head'.\n",
        "## We can vizualize the sentence as a tree of modifications.\n",
        "\n",
        "## Stanza's 'depparse' module creates a dependency tree for each sentence in the Document object. This task\n",
        "## is trained on thousands of handmade and verified treebanks. From this data, this model can generate\n",
        "## its own treebanks. "
      ],
      "execution_count": null,
      "outputs": [
        {
          "output_type": "stream",
          "name": "stdout",
          "text": [
            "nmod:poss\n"
          ]
        }
      ]
    },
    {
      "cell_type": "code",
      "metadata": {
        "colab": {
          "base_uri": "https://localhost:8080/"
        },
        "id": "qT6KMDrXdjhH",
        "outputId": "7ae3e37e-a287-46bd-fdcc-44a6cfbf93ff"
      },
      "source": [
        "## .head will give us the index position of the word which our current word directly modifies\n",
        "print(first_sentence.text)\n",
        "print('\\n')\n",
        "\n",
        "for word in first_sentence.words:\n",
        "  print(f'{word.text} ({word.deprel}, {word.id}):\\t {first_sentence.words[word.head-1].text} ({word.head})')"
      ],
      "execution_count": null,
      "outputs": [
        {
          "output_type": "stream",
          "name": "stdout",
          "text": [
            "His generals, in the early part of his reign, attempted the reduction of Aethiopia and Arabia Felix.\n",
            "\n",
            "\n",
            "His (nmod:poss, 1):\t generals (2)\n",
            "generals (nsubj, 2):\t attempted (12)\n",
            ", (punct, 3):\t generals (2)\n",
            "in (case, 4):\t part (7)\n",
            "the (det, 5):\t part (7)\n",
            "early (amod, 6):\t part (7)\n",
            "part (obl, 7):\t attempted (12)\n",
            "of (case, 8):\t reign (10)\n",
            "his (nmod:poss, 9):\t reign (10)\n",
            "reign (nmod, 10):\t part (7)\n",
            ", (punct, 11):\t generals (2)\n",
            "attempted (root, 12):\t . (0)\n",
            "the (det, 13):\t reduction (14)\n",
            "reduction (obj, 14):\t attempted (12)\n",
            "of (case, 15):\t Aethiopia (16)\n",
            "Aethiopia (nmod, 16):\t reduction (14)\n",
            "and (cc, 17):\t Arabia (18)\n",
            "Arabia (conj, 18):\t Aethiopia (16)\n",
            "Felix (conj, 19):\t Aethiopia (16)\n",
            ". (punct, 20):\t attempted (12)\n"
          ]
        }
      ]
    },
    {
      "cell_type": "code",
      "metadata": {
        "id": "5Xm_urro8BIU"
      },
      "source": [
        "## The main verb of the sentence is general the root, although it can vary language to language. \n",
        "## In English, for instance, the root of a sentence containing the verb 'to be' changes depending on usage.       "
      ],
      "execution_count": null,
      "outputs": []
    },
    {
      "cell_type": "code",
      "metadata": {
        "colab": {
          "base_uri": "https://localhost:8080/"
        },
        "id": "OZafOKAjcsLB",
        "outputId": "a18ef3ab-5310-44d8-af0f-e59c8b1dccc6"
      },
      "source": [
        "## With universal dependencies, we can search for words with certain \n",
        "## modifiers or that are modifying other words\n",
        "\n",
        "## Find what word directly modify the verb\n",
        "for word in first_sentence.words:\n",
        "  if first_sentence.words[word.head-1].deprel == 'nsubj':\n",
        "    print(word.text, word.upos)\n",
        "\n",
        "## Try this out by changing 'root' to another tag."
      ],
      "execution_count": null,
      "outputs": [
        {
          "output_type": "stream",
          "name": "stdout",
          "text": [
            "His PRON\n",
            ", PUNCT\n",
            ", PUNCT\n"
          ]
        }
      ]
    },
    {
      "cell_type": "code",
      "metadata": {
        "id": "wnfAyfxMf51t"
      },
      "source": [
        "def findRootDep(stanza_doc):\n",
        "  \n",
        "  for sentence in stanza_doc.sentences:\n",
        "    for word in sentence.words:\n",
        "      if (sentence.words[word.head-1].deprel == 'root') and (word.upos != 'PUNCT'):\n",
        "        print(word.text, word.upos)\n",
        "    print(sentence.words[word.head-1].text, sentence.words[word.head-1].upos)\n",
        "    print('\\n')"
      ],
      "execution_count": null,
      "outputs": []
    },
    {
      "cell_type": "code",
      "metadata": {
        "colab": {
          "base_uri": "https://localhost:8080/"
        },
        "id": "SfPkPjeBgker",
        "outputId": "2c81394c-aa5e-48d1-b2d3-d3099d6d48c7"
      },
      "source": [
        "findRootDep(doc_p2)"
      ],
      "execution_count": null,
      "outputs": [
        {
          "output_type": "stream",
          "name": "stdout",
          "text": [
            "generals NOUN\n",
            "part NOUN\n",
            "reduction NOUN\n",
            "attempted VERB\n",
            "\n",
            "\n",
            "They PRON\n",
            "miles NOUN\n",
            "south NOUN\n",
            "repelled VERB\n",
            "marched VERB\n",
            "\n",
            "\n",
            "countries NOUN\n",
            "scarcely ADV\n",
            "expense NOUN\n",
            "deserved VERB\n",
            "\n",
            "\n",
            "forests NOUN\n",
            "were AUX\n",
            "race NOUN\n",
            "seemed VERB\n",
            "regained VERB\n",
            "filled VERB\n",
            "\n",
            "\n",
            "death NOUN\n",
            "testament NOUN\n",
            "was AUX\n",
            "publicly ADV\n",
            "senate NOUN\n",
            "read VERB\n",
            "\n",
            "\n",
            "He PRON\n",
            "legacy NOUN\n",
            "bequeathed VERB\n",
            "\n",
            "\n"
          ]
        }
      ]
    },
    {
      "cell_type": "code",
      "metadata": {
        "colab": {
          "base_uri": "https://localhost:8080/"
        },
        "id": "hVv6WVjUiM5Q",
        "outputId": "def3d904-6e77-4f70-c943-f12d1e810cd4"
      },
      "source": [
        "## We can also go the other way, that is from modified word to the word that modifies it\n",
        "\n",
        "for word in first_sentence.words:\n",
        "  if (first_sentence.words[word.head-1].deprel != 'root') and (word.upos != 'PUNCT'):\n",
        "    print((word.text, first_sentence.words[word.head-1].text))"
      ],
      "execution_count": null,
      "outputs": [
        {
          "output_type": "stream",
          "name": "stdout",
          "text": [
            "('His', 'generals')\n",
            "('in', 'part')\n",
            "('the', 'part')\n",
            "('early', 'part')\n",
            "('of', 'reign')\n",
            "('his', 'reign')\n",
            "('reign', 'part')\n",
            "('attempted', '.')\n",
            "('the', 'reduction')\n",
            "('of', 'Aethiopia')\n",
            "('Aethiopia', 'reduction')\n",
            "('and', 'Arabia')\n",
            "('Arabia', 'Aethiopia')\n",
            "('Felix', 'Aethiopia')\n"
          ]
        }
      ]
    },
    {
      "cell_type": "code",
      "metadata": {
        "colab": {
          "base_uri": "https://localhost:8080/"
        },
        "id": "fkWE3VCZniuh",
        "outputId": "99e7e51f-b072-4f5f-9fca-53449145c9eb"
      },
      "source": [
        "first_sentence.dependencies ##displays the sentence as a grammatical 'tree'. Let's exlore what that means."
      ],
      "execution_count": null,
      "outputs": [
        {
          "output_type": "execute_result",
          "data": {
            "text/plain": [
              "[({\n",
              "    \"id\": 2,\n",
              "    \"text\": \"generals\",\n",
              "    \"lemma\": \"general\",\n",
              "    \"upos\": \"NOUN\",\n",
              "    \"xpos\": \"NNS\",\n",
              "    \"feats\": \"Number=Plur\",\n",
              "    \"head\": 12,\n",
              "    \"deprel\": \"nsubj\",\n",
              "    \"start_char\": 4,\n",
              "    \"end_char\": 12\n",
              "  }, 'nmod:poss', {\n",
              "    \"id\": 1,\n",
              "    \"text\": \"His\",\n",
              "    \"lemma\": \"his\",\n",
              "    \"upos\": \"PRON\",\n",
              "    \"xpos\": \"PRP$\",\n",
              "    \"feats\": \"Gender=Masc|Number=Sing|Person=3|Poss=Yes|PronType=Prs\",\n",
              "    \"head\": 2,\n",
              "    \"deprel\": \"nmod:poss\",\n",
              "    \"start_char\": 0,\n",
              "    \"end_char\": 3\n",
              "  }), ({\n",
              "    \"id\": 12,\n",
              "    \"text\": \"attempted\",\n",
              "    \"lemma\": \"attempt\",\n",
              "    \"upos\": \"VERB\",\n",
              "    \"xpos\": \"VBD\",\n",
              "    \"feats\": \"Mood=Ind|Number=Sing|Person=3|Tense=Past|VerbForm=Fin\",\n",
              "    \"head\": 0,\n",
              "    \"deprel\": \"root\",\n",
              "    \"start_char\": 46,\n",
              "    \"end_char\": 55\n",
              "  }, 'nsubj', {\n",
              "    \"id\": 2,\n",
              "    \"text\": \"generals\",\n",
              "    \"lemma\": \"general\",\n",
              "    \"upos\": \"NOUN\",\n",
              "    \"xpos\": \"NNS\",\n",
              "    \"feats\": \"Number=Plur\",\n",
              "    \"head\": 12,\n",
              "    \"deprel\": \"nsubj\",\n",
              "    \"start_char\": 4,\n",
              "    \"end_char\": 12\n",
              "  }), ({\n",
              "    \"id\": 2,\n",
              "    \"text\": \"generals\",\n",
              "    \"lemma\": \"general\",\n",
              "    \"upos\": \"NOUN\",\n",
              "    \"xpos\": \"NNS\",\n",
              "    \"feats\": \"Number=Plur\",\n",
              "    \"head\": 12,\n",
              "    \"deprel\": \"nsubj\",\n",
              "    \"start_char\": 4,\n",
              "    \"end_char\": 12\n",
              "  }, 'punct', {\n",
              "    \"id\": 3,\n",
              "    \"text\": \",\",\n",
              "    \"lemma\": \",\",\n",
              "    \"upos\": \"PUNCT\",\n",
              "    \"xpos\": \",\",\n",
              "    \"head\": 2,\n",
              "    \"deprel\": \"punct\",\n",
              "    \"start_char\": 12,\n",
              "    \"end_char\": 13\n",
              "  }), ({\n",
              "    \"id\": 7,\n",
              "    \"text\": \"part\",\n",
              "    \"lemma\": \"part\",\n",
              "    \"upos\": \"NOUN\",\n",
              "    \"xpos\": \"NN\",\n",
              "    \"feats\": \"Number=Sing\",\n",
              "    \"head\": 12,\n",
              "    \"deprel\": \"obl\",\n",
              "    \"start_char\": 27,\n",
              "    \"end_char\": 31\n",
              "  }, 'case', {\n",
              "    \"id\": 4,\n",
              "    \"text\": \"in\",\n",
              "    \"lemma\": \"in\",\n",
              "    \"upos\": \"ADP\",\n",
              "    \"xpos\": \"IN\",\n",
              "    \"head\": 7,\n",
              "    \"deprel\": \"case\",\n",
              "    \"start_char\": 14,\n",
              "    \"end_char\": 16\n",
              "  }), ({\n",
              "    \"id\": 7,\n",
              "    \"text\": \"part\",\n",
              "    \"lemma\": \"part\",\n",
              "    \"upos\": \"NOUN\",\n",
              "    \"xpos\": \"NN\",\n",
              "    \"feats\": \"Number=Sing\",\n",
              "    \"head\": 12,\n",
              "    \"deprel\": \"obl\",\n",
              "    \"start_char\": 27,\n",
              "    \"end_char\": 31\n",
              "  }, 'det', {\n",
              "    \"id\": 5,\n",
              "    \"text\": \"the\",\n",
              "    \"lemma\": \"the\",\n",
              "    \"upos\": \"DET\",\n",
              "    \"xpos\": \"DT\",\n",
              "    \"feats\": \"Definite=Def|PronType=Art\",\n",
              "    \"head\": 7,\n",
              "    \"deprel\": \"det\",\n",
              "    \"start_char\": 17,\n",
              "    \"end_char\": 20\n",
              "  }), ({\n",
              "    \"id\": 7,\n",
              "    \"text\": \"part\",\n",
              "    \"lemma\": \"part\",\n",
              "    \"upos\": \"NOUN\",\n",
              "    \"xpos\": \"NN\",\n",
              "    \"feats\": \"Number=Sing\",\n",
              "    \"head\": 12,\n",
              "    \"deprel\": \"obl\",\n",
              "    \"start_char\": 27,\n",
              "    \"end_char\": 31\n",
              "  }, 'amod', {\n",
              "    \"id\": 6,\n",
              "    \"text\": \"early\",\n",
              "    \"lemma\": \"early\",\n",
              "    \"upos\": \"ADJ\",\n",
              "    \"xpos\": \"JJ\",\n",
              "    \"feats\": \"Degree=Pos\",\n",
              "    \"head\": 7,\n",
              "    \"deprel\": \"amod\",\n",
              "    \"start_char\": 21,\n",
              "    \"end_char\": 26\n",
              "  }), ({\n",
              "    \"id\": 12,\n",
              "    \"text\": \"attempted\",\n",
              "    \"lemma\": \"attempt\",\n",
              "    \"upos\": \"VERB\",\n",
              "    \"xpos\": \"VBD\",\n",
              "    \"feats\": \"Mood=Ind|Number=Sing|Person=3|Tense=Past|VerbForm=Fin\",\n",
              "    \"head\": 0,\n",
              "    \"deprel\": \"root\",\n",
              "    \"start_char\": 46,\n",
              "    \"end_char\": 55\n",
              "  }, 'obl', {\n",
              "    \"id\": 7,\n",
              "    \"text\": \"part\",\n",
              "    \"lemma\": \"part\",\n",
              "    \"upos\": \"NOUN\",\n",
              "    \"xpos\": \"NN\",\n",
              "    \"feats\": \"Number=Sing\",\n",
              "    \"head\": 12,\n",
              "    \"deprel\": \"obl\",\n",
              "    \"start_char\": 27,\n",
              "    \"end_char\": 31\n",
              "  }), ({\n",
              "    \"id\": 10,\n",
              "    \"text\": \"reign\",\n",
              "    \"lemma\": \"reign\",\n",
              "    \"upos\": \"NOUN\",\n",
              "    \"xpos\": \"NN\",\n",
              "    \"feats\": \"Number=Sing\",\n",
              "    \"head\": 7,\n",
              "    \"deprel\": \"nmod\",\n",
              "    \"start_char\": 39,\n",
              "    \"end_char\": 44\n",
              "  }, 'case', {\n",
              "    \"id\": 8,\n",
              "    \"text\": \"of\",\n",
              "    \"lemma\": \"of\",\n",
              "    \"upos\": \"ADP\",\n",
              "    \"xpos\": \"IN\",\n",
              "    \"head\": 10,\n",
              "    \"deprel\": \"case\",\n",
              "    \"start_char\": 32,\n",
              "    \"end_char\": 34\n",
              "  }), ({\n",
              "    \"id\": 10,\n",
              "    \"text\": \"reign\",\n",
              "    \"lemma\": \"reign\",\n",
              "    \"upos\": \"NOUN\",\n",
              "    \"xpos\": \"NN\",\n",
              "    \"feats\": \"Number=Sing\",\n",
              "    \"head\": 7,\n",
              "    \"deprel\": \"nmod\",\n",
              "    \"start_char\": 39,\n",
              "    \"end_char\": 44\n",
              "  }, 'nmod:poss', {\n",
              "    \"id\": 9,\n",
              "    \"text\": \"his\",\n",
              "    \"lemma\": \"he\",\n",
              "    \"upos\": \"PRON\",\n",
              "    \"xpos\": \"PRP$\",\n",
              "    \"feats\": \"Gender=Masc|Number=Sing|Person=3|Poss=Yes|PronType=Prs\",\n",
              "    \"head\": 10,\n",
              "    \"deprel\": \"nmod:poss\",\n",
              "    \"start_char\": 35,\n",
              "    \"end_char\": 38\n",
              "  }), ({\n",
              "    \"id\": 7,\n",
              "    \"text\": \"part\",\n",
              "    \"lemma\": \"part\",\n",
              "    \"upos\": \"NOUN\",\n",
              "    \"xpos\": \"NN\",\n",
              "    \"feats\": \"Number=Sing\",\n",
              "    \"head\": 12,\n",
              "    \"deprel\": \"obl\",\n",
              "    \"start_char\": 27,\n",
              "    \"end_char\": 31\n",
              "  }, 'nmod', {\n",
              "    \"id\": 10,\n",
              "    \"text\": \"reign\",\n",
              "    \"lemma\": \"reign\",\n",
              "    \"upos\": \"NOUN\",\n",
              "    \"xpos\": \"NN\",\n",
              "    \"feats\": \"Number=Sing\",\n",
              "    \"head\": 7,\n",
              "    \"deprel\": \"nmod\",\n",
              "    \"start_char\": 39,\n",
              "    \"end_char\": 44\n",
              "  }), ({\n",
              "    \"id\": 2,\n",
              "    \"text\": \"generals\",\n",
              "    \"lemma\": \"general\",\n",
              "    \"upos\": \"NOUN\",\n",
              "    \"xpos\": \"NNS\",\n",
              "    \"feats\": \"Number=Plur\",\n",
              "    \"head\": 12,\n",
              "    \"deprel\": \"nsubj\",\n",
              "    \"start_char\": 4,\n",
              "    \"end_char\": 12\n",
              "  }, 'punct', {\n",
              "    \"id\": 11,\n",
              "    \"text\": \",\",\n",
              "    \"lemma\": \",\",\n",
              "    \"upos\": \"PUNCT\",\n",
              "    \"xpos\": \",\",\n",
              "    \"head\": 2,\n",
              "    \"deprel\": \"punct\",\n",
              "    \"start_char\": 44,\n",
              "    \"end_char\": 45\n",
              "  }), ({\n",
              "    \"id\": 0,\n",
              "    \"text\": \"ROOT\"\n",
              "  }, 'root', {\n",
              "    \"id\": 12,\n",
              "    \"text\": \"attempted\",\n",
              "    \"lemma\": \"attempt\",\n",
              "    \"upos\": \"VERB\",\n",
              "    \"xpos\": \"VBD\",\n",
              "    \"feats\": \"Mood=Ind|Number=Sing|Person=3|Tense=Past|VerbForm=Fin\",\n",
              "    \"head\": 0,\n",
              "    \"deprel\": \"root\",\n",
              "    \"start_char\": 46,\n",
              "    \"end_char\": 55\n",
              "  }), ({\n",
              "    \"id\": 14,\n",
              "    \"text\": \"reduction\",\n",
              "    \"lemma\": \"reduction\",\n",
              "    \"upos\": \"NOUN\",\n",
              "    \"xpos\": \"NN\",\n",
              "    \"feats\": \"Number=Sing\",\n",
              "    \"head\": 12,\n",
              "    \"deprel\": \"obj\",\n",
              "    \"start_char\": 60,\n",
              "    \"end_char\": 69\n",
              "  }, 'det', {\n",
              "    \"id\": 13,\n",
              "    \"text\": \"the\",\n",
              "    \"lemma\": \"the\",\n",
              "    \"upos\": \"DET\",\n",
              "    \"xpos\": \"DT\",\n",
              "    \"feats\": \"Definite=Def|PronType=Art\",\n",
              "    \"head\": 14,\n",
              "    \"deprel\": \"det\",\n",
              "    \"start_char\": 56,\n",
              "    \"end_char\": 59\n",
              "  }), ({\n",
              "    \"id\": 12,\n",
              "    \"text\": \"attempted\",\n",
              "    \"lemma\": \"attempt\",\n",
              "    \"upos\": \"VERB\",\n",
              "    \"xpos\": \"VBD\",\n",
              "    \"feats\": \"Mood=Ind|Number=Sing|Person=3|Tense=Past|VerbForm=Fin\",\n",
              "    \"head\": 0,\n",
              "    \"deprel\": \"root\",\n",
              "    \"start_char\": 46,\n",
              "    \"end_char\": 55\n",
              "  }, 'obj', {\n",
              "    \"id\": 14,\n",
              "    \"text\": \"reduction\",\n",
              "    \"lemma\": \"reduction\",\n",
              "    \"upos\": \"NOUN\",\n",
              "    \"xpos\": \"NN\",\n",
              "    \"feats\": \"Number=Sing\",\n",
              "    \"head\": 12,\n",
              "    \"deprel\": \"obj\",\n",
              "    \"start_char\": 60,\n",
              "    \"end_char\": 69\n",
              "  }), ({\n",
              "    \"id\": 16,\n",
              "    \"text\": \"Aethiopia\",\n",
              "    \"lemma\": \"Aethiopia\",\n",
              "    \"upos\": \"PROPN\",\n",
              "    \"xpos\": \"NNP\",\n",
              "    \"feats\": \"Number=Sing\",\n",
              "    \"head\": 14,\n",
              "    \"deprel\": \"nmod\",\n",
              "    \"start_char\": 73,\n",
              "    \"end_char\": 82\n",
              "  }, 'case', {\n",
              "    \"id\": 15,\n",
              "    \"text\": \"of\",\n",
              "    \"lemma\": \"of\",\n",
              "    \"upos\": \"ADP\",\n",
              "    \"xpos\": \"IN\",\n",
              "    \"head\": 16,\n",
              "    \"deprel\": \"case\",\n",
              "    \"start_char\": 70,\n",
              "    \"end_char\": 72\n",
              "  }), ({\n",
              "    \"id\": 14,\n",
              "    \"text\": \"reduction\",\n",
              "    \"lemma\": \"reduction\",\n",
              "    \"upos\": \"NOUN\",\n",
              "    \"xpos\": \"NN\",\n",
              "    \"feats\": \"Number=Sing\",\n",
              "    \"head\": 12,\n",
              "    \"deprel\": \"obj\",\n",
              "    \"start_char\": 60,\n",
              "    \"end_char\": 69\n",
              "  }, 'nmod', {\n",
              "    \"id\": 16,\n",
              "    \"text\": \"Aethiopia\",\n",
              "    \"lemma\": \"Aethiopia\",\n",
              "    \"upos\": \"PROPN\",\n",
              "    \"xpos\": \"NNP\",\n",
              "    \"feats\": \"Number=Sing\",\n",
              "    \"head\": 14,\n",
              "    \"deprel\": \"nmod\",\n",
              "    \"start_char\": 73,\n",
              "    \"end_char\": 82\n",
              "  }), ({\n",
              "    \"id\": 18,\n",
              "    \"text\": \"Arabia\",\n",
              "    \"lemma\": \"Arabia\",\n",
              "    \"upos\": \"PROPN\",\n",
              "    \"xpos\": \"NNP\",\n",
              "    \"feats\": \"Number=Sing\",\n",
              "    \"head\": 16,\n",
              "    \"deprel\": \"conj\",\n",
              "    \"start_char\": 87,\n",
              "    \"end_char\": 93\n",
              "  }, 'cc', {\n",
              "    \"id\": 17,\n",
              "    \"text\": \"and\",\n",
              "    \"lemma\": \"and\",\n",
              "    \"upos\": \"CCONJ\",\n",
              "    \"xpos\": \"CC\",\n",
              "    \"head\": 18,\n",
              "    \"deprel\": \"cc\",\n",
              "    \"start_char\": 83,\n",
              "    \"end_char\": 86\n",
              "  }), ({\n",
              "    \"id\": 16,\n",
              "    \"text\": \"Aethiopia\",\n",
              "    \"lemma\": \"Aethiopia\",\n",
              "    \"upos\": \"PROPN\",\n",
              "    \"xpos\": \"NNP\",\n",
              "    \"feats\": \"Number=Sing\",\n",
              "    \"head\": 14,\n",
              "    \"deprel\": \"nmod\",\n",
              "    \"start_char\": 73,\n",
              "    \"end_char\": 82\n",
              "  }, 'conj', {\n",
              "    \"id\": 18,\n",
              "    \"text\": \"Arabia\",\n",
              "    \"lemma\": \"Arabia\",\n",
              "    \"upos\": \"PROPN\",\n",
              "    \"xpos\": \"NNP\",\n",
              "    \"feats\": \"Number=Sing\",\n",
              "    \"head\": 16,\n",
              "    \"deprel\": \"conj\",\n",
              "    \"start_char\": 87,\n",
              "    \"end_char\": 93\n",
              "  }), ({\n",
              "    \"id\": 16,\n",
              "    \"text\": \"Aethiopia\",\n",
              "    \"lemma\": \"Aethiopia\",\n",
              "    \"upos\": \"PROPN\",\n",
              "    \"xpos\": \"NNP\",\n",
              "    \"feats\": \"Number=Sing\",\n",
              "    \"head\": 14,\n",
              "    \"deprel\": \"nmod\",\n",
              "    \"start_char\": 73,\n",
              "    \"end_char\": 82\n",
              "  }, 'conj', {\n",
              "    \"id\": 19,\n",
              "    \"text\": \"Felix\",\n",
              "    \"lemma\": \"Felix\",\n",
              "    \"upos\": \"PROPN\",\n",
              "    \"xpos\": \"NNP\",\n",
              "    \"feats\": \"Number=Sing\",\n",
              "    \"head\": 16,\n",
              "    \"deprel\": \"conj\",\n",
              "    \"start_char\": 94,\n",
              "    \"end_char\": 99\n",
              "  }), ({\n",
              "    \"id\": 12,\n",
              "    \"text\": \"attempted\",\n",
              "    \"lemma\": \"attempt\",\n",
              "    \"upos\": \"VERB\",\n",
              "    \"xpos\": \"VBD\",\n",
              "    \"feats\": \"Mood=Ind|Number=Sing|Person=3|Tense=Past|VerbForm=Fin\",\n",
              "    \"head\": 0,\n",
              "    \"deprel\": \"root\",\n",
              "    \"start_char\": 46,\n",
              "    \"end_char\": 55\n",
              "  }, 'punct', {\n",
              "    \"id\": 20,\n",
              "    \"text\": \".\",\n",
              "    \"lemma\": \".\",\n",
              "    \"upos\": \"PUNCT\",\n",
              "    \"xpos\": \".\",\n",
              "    \"head\": 12,\n",
              "    \"deprel\": \"punct\",\n",
              "    \"start_char\": 99,\n",
              "    \"end_char\": 100\n",
              "  })]"
            ]
          },
          "metadata": {},
          "execution_count": 26
        }
      ]
    },
    {
      "cell_type": "code",
      "metadata": {
        "colab": {
          "base_uri": "https://localhost:8080/"
        },
        "id": "VO1EjT3qI38W",
        "outputId": "2d77af3e-6583-49fb-fd1f-3a5518258e28"
      },
      "source": [
        "for dep in first_sentence.dependencies:\n",
        "  print(dep)\n",
        "  print('\\n')"
      ],
      "execution_count": null,
      "outputs": [
        {
          "output_type": "stream",
          "name": "stdout",
          "text": [
            "({\n",
            "  \"id\": 2,\n",
            "  \"text\": \"generals\",\n",
            "  \"lemma\": \"general\",\n",
            "  \"upos\": \"NOUN\",\n",
            "  \"xpos\": \"NNS\",\n",
            "  \"feats\": \"Number=Plur\",\n",
            "  \"head\": 12,\n",
            "  \"deprel\": \"nsubj\",\n",
            "  \"start_char\": 4,\n",
            "  \"end_char\": 12\n",
            "}, 'nmod:poss', {\n",
            "  \"id\": 1,\n",
            "  \"text\": \"His\",\n",
            "  \"lemma\": \"his\",\n",
            "  \"upos\": \"PRON\",\n",
            "  \"xpos\": \"PRP$\",\n",
            "  \"feats\": \"Gender=Masc|Number=Sing|Person=3|Poss=Yes|PronType=Prs\",\n",
            "  \"head\": 2,\n",
            "  \"deprel\": \"nmod:poss\",\n",
            "  \"start_char\": 0,\n",
            "  \"end_char\": 3\n",
            "})\n",
            "\n",
            "\n",
            "({\n",
            "  \"id\": 12,\n",
            "  \"text\": \"attempted\",\n",
            "  \"lemma\": \"attempt\",\n",
            "  \"upos\": \"VERB\",\n",
            "  \"xpos\": \"VBD\",\n",
            "  \"feats\": \"Mood=Ind|Number=Sing|Person=3|Tense=Past|VerbForm=Fin\",\n",
            "  \"head\": 0,\n",
            "  \"deprel\": \"root\",\n",
            "  \"start_char\": 46,\n",
            "  \"end_char\": 55\n",
            "}, 'nsubj', {\n",
            "  \"id\": 2,\n",
            "  \"text\": \"generals\",\n",
            "  \"lemma\": \"general\",\n",
            "  \"upos\": \"NOUN\",\n",
            "  \"xpos\": \"NNS\",\n",
            "  \"feats\": \"Number=Plur\",\n",
            "  \"head\": 12,\n",
            "  \"deprel\": \"nsubj\",\n",
            "  \"start_char\": 4,\n",
            "  \"end_char\": 12\n",
            "})\n",
            "\n",
            "\n",
            "({\n",
            "  \"id\": 2,\n",
            "  \"text\": \"generals\",\n",
            "  \"lemma\": \"general\",\n",
            "  \"upos\": \"NOUN\",\n",
            "  \"xpos\": \"NNS\",\n",
            "  \"feats\": \"Number=Plur\",\n",
            "  \"head\": 12,\n",
            "  \"deprel\": \"nsubj\",\n",
            "  \"start_char\": 4,\n",
            "  \"end_char\": 12\n",
            "}, 'punct', {\n",
            "  \"id\": 3,\n",
            "  \"text\": \",\",\n",
            "  \"lemma\": \",\",\n",
            "  \"upos\": \"PUNCT\",\n",
            "  \"xpos\": \",\",\n",
            "  \"head\": 2,\n",
            "  \"deprel\": \"punct\",\n",
            "  \"start_char\": 12,\n",
            "  \"end_char\": 13\n",
            "})\n",
            "\n",
            "\n",
            "({\n",
            "  \"id\": 7,\n",
            "  \"text\": \"part\",\n",
            "  \"lemma\": \"part\",\n",
            "  \"upos\": \"NOUN\",\n",
            "  \"xpos\": \"NN\",\n",
            "  \"feats\": \"Number=Sing\",\n",
            "  \"head\": 12,\n",
            "  \"deprel\": \"obl\",\n",
            "  \"start_char\": 27,\n",
            "  \"end_char\": 31\n",
            "}, 'case', {\n",
            "  \"id\": 4,\n",
            "  \"text\": \"in\",\n",
            "  \"lemma\": \"in\",\n",
            "  \"upos\": \"ADP\",\n",
            "  \"xpos\": \"IN\",\n",
            "  \"head\": 7,\n",
            "  \"deprel\": \"case\",\n",
            "  \"start_char\": 14,\n",
            "  \"end_char\": 16\n",
            "})\n",
            "\n",
            "\n",
            "({\n",
            "  \"id\": 7,\n",
            "  \"text\": \"part\",\n",
            "  \"lemma\": \"part\",\n",
            "  \"upos\": \"NOUN\",\n",
            "  \"xpos\": \"NN\",\n",
            "  \"feats\": \"Number=Sing\",\n",
            "  \"head\": 12,\n",
            "  \"deprel\": \"obl\",\n",
            "  \"start_char\": 27,\n",
            "  \"end_char\": 31\n",
            "}, 'det', {\n",
            "  \"id\": 5,\n",
            "  \"text\": \"the\",\n",
            "  \"lemma\": \"the\",\n",
            "  \"upos\": \"DET\",\n",
            "  \"xpos\": \"DT\",\n",
            "  \"feats\": \"Definite=Def|PronType=Art\",\n",
            "  \"head\": 7,\n",
            "  \"deprel\": \"det\",\n",
            "  \"start_char\": 17,\n",
            "  \"end_char\": 20\n",
            "})\n",
            "\n",
            "\n",
            "({\n",
            "  \"id\": 7,\n",
            "  \"text\": \"part\",\n",
            "  \"lemma\": \"part\",\n",
            "  \"upos\": \"NOUN\",\n",
            "  \"xpos\": \"NN\",\n",
            "  \"feats\": \"Number=Sing\",\n",
            "  \"head\": 12,\n",
            "  \"deprel\": \"obl\",\n",
            "  \"start_char\": 27,\n",
            "  \"end_char\": 31\n",
            "}, 'amod', {\n",
            "  \"id\": 6,\n",
            "  \"text\": \"early\",\n",
            "  \"lemma\": \"early\",\n",
            "  \"upos\": \"ADJ\",\n",
            "  \"xpos\": \"JJ\",\n",
            "  \"feats\": \"Degree=Pos\",\n",
            "  \"head\": 7,\n",
            "  \"deprel\": \"amod\",\n",
            "  \"start_char\": 21,\n",
            "  \"end_char\": 26\n",
            "})\n",
            "\n",
            "\n",
            "({\n",
            "  \"id\": 12,\n",
            "  \"text\": \"attempted\",\n",
            "  \"lemma\": \"attempt\",\n",
            "  \"upos\": \"VERB\",\n",
            "  \"xpos\": \"VBD\",\n",
            "  \"feats\": \"Mood=Ind|Number=Sing|Person=3|Tense=Past|VerbForm=Fin\",\n",
            "  \"head\": 0,\n",
            "  \"deprel\": \"root\",\n",
            "  \"start_char\": 46,\n",
            "  \"end_char\": 55\n",
            "}, 'obl', {\n",
            "  \"id\": 7,\n",
            "  \"text\": \"part\",\n",
            "  \"lemma\": \"part\",\n",
            "  \"upos\": \"NOUN\",\n",
            "  \"xpos\": \"NN\",\n",
            "  \"feats\": \"Number=Sing\",\n",
            "  \"head\": 12,\n",
            "  \"deprel\": \"obl\",\n",
            "  \"start_char\": 27,\n",
            "  \"end_char\": 31\n",
            "})\n",
            "\n",
            "\n",
            "({\n",
            "  \"id\": 10,\n",
            "  \"text\": \"reign\",\n",
            "  \"lemma\": \"reign\",\n",
            "  \"upos\": \"NOUN\",\n",
            "  \"xpos\": \"NN\",\n",
            "  \"feats\": \"Number=Sing\",\n",
            "  \"head\": 7,\n",
            "  \"deprel\": \"nmod\",\n",
            "  \"start_char\": 39,\n",
            "  \"end_char\": 44\n",
            "}, 'case', {\n",
            "  \"id\": 8,\n",
            "  \"text\": \"of\",\n",
            "  \"lemma\": \"of\",\n",
            "  \"upos\": \"ADP\",\n",
            "  \"xpos\": \"IN\",\n",
            "  \"head\": 10,\n",
            "  \"deprel\": \"case\",\n",
            "  \"start_char\": 32,\n",
            "  \"end_char\": 34\n",
            "})\n",
            "\n",
            "\n",
            "({\n",
            "  \"id\": 10,\n",
            "  \"text\": \"reign\",\n",
            "  \"lemma\": \"reign\",\n",
            "  \"upos\": \"NOUN\",\n",
            "  \"xpos\": \"NN\",\n",
            "  \"feats\": \"Number=Sing\",\n",
            "  \"head\": 7,\n",
            "  \"deprel\": \"nmod\",\n",
            "  \"start_char\": 39,\n",
            "  \"end_char\": 44\n",
            "}, 'nmod:poss', {\n",
            "  \"id\": 9,\n",
            "  \"text\": \"his\",\n",
            "  \"lemma\": \"he\",\n",
            "  \"upos\": \"PRON\",\n",
            "  \"xpos\": \"PRP$\",\n",
            "  \"feats\": \"Gender=Masc|Number=Sing|Person=3|Poss=Yes|PronType=Prs\",\n",
            "  \"head\": 10,\n",
            "  \"deprel\": \"nmod:poss\",\n",
            "  \"start_char\": 35,\n",
            "  \"end_char\": 38\n",
            "})\n",
            "\n",
            "\n",
            "({\n",
            "  \"id\": 7,\n",
            "  \"text\": \"part\",\n",
            "  \"lemma\": \"part\",\n",
            "  \"upos\": \"NOUN\",\n",
            "  \"xpos\": \"NN\",\n",
            "  \"feats\": \"Number=Sing\",\n",
            "  \"head\": 12,\n",
            "  \"deprel\": \"obl\",\n",
            "  \"start_char\": 27,\n",
            "  \"end_char\": 31\n",
            "}, 'nmod', {\n",
            "  \"id\": 10,\n",
            "  \"text\": \"reign\",\n",
            "  \"lemma\": \"reign\",\n",
            "  \"upos\": \"NOUN\",\n",
            "  \"xpos\": \"NN\",\n",
            "  \"feats\": \"Number=Sing\",\n",
            "  \"head\": 7,\n",
            "  \"deprel\": \"nmod\",\n",
            "  \"start_char\": 39,\n",
            "  \"end_char\": 44\n",
            "})\n",
            "\n",
            "\n",
            "({\n",
            "  \"id\": 2,\n",
            "  \"text\": \"generals\",\n",
            "  \"lemma\": \"general\",\n",
            "  \"upos\": \"NOUN\",\n",
            "  \"xpos\": \"NNS\",\n",
            "  \"feats\": \"Number=Plur\",\n",
            "  \"head\": 12,\n",
            "  \"deprel\": \"nsubj\",\n",
            "  \"start_char\": 4,\n",
            "  \"end_char\": 12\n",
            "}, 'punct', {\n",
            "  \"id\": 11,\n",
            "  \"text\": \",\",\n",
            "  \"lemma\": \",\",\n",
            "  \"upos\": \"PUNCT\",\n",
            "  \"xpos\": \",\",\n",
            "  \"head\": 2,\n",
            "  \"deprel\": \"punct\",\n",
            "  \"start_char\": 44,\n",
            "  \"end_char\": 45\n",
            "})\n",
            "\n",
            "\n",
            "({\n",
            "  \"id\": 0,\n",
            "  \"text\": \"ROOT\"\n",
            "}, 'root', {\n",
            "  \"id\": 12,\n",
            "  \"text\": \"attempted\",\n",
            "  \"lemma\": \"attempt\",\n",
            "  \"upos\": \"VERB\",\n",
            "  \"xpos\": \"VBD\",\n",
            "  \"feats\": \"Mood=Ind|Number=Sing|Person=3|Tense=Past|VerbForm=Fin\",\n",
            "  \"head\": 0,\n",
            "  \"deprel\": \"root\",\n",
            "  \"start_char\": 46,\n",
            "  \"end_char\": 55\n",
            "})\n",
            "\n",
            "\n",
            "({\n",
            "  \"id\": 14,\n",
            "  \"text\": \"reduction\",\n",
            "  \"lemma\": \"reduction\",\n",
            "  \"upos\": \"NOUN\",\n",
            "  \"xpos\": \"NN\",\n",
            "  \"feats\": \"Number=Sing\",\n",
            "  \"head\": 12,\n",
            "  \"deprel\": \"obj\",\n",
            "  \"start_char\": 60,\n",
            "  \"end_char\": 69\n",
            "}, 'det', {\n",
            "  \"id\": 13,\n",
            "  \"text\": \"the\",\n",
            "  \"lemma\": \"the\",\n",
            "  \"upos\": \"DET\",\n",
            "  \"xpos\": \"DT\",\n",
            "  \"feats\": \"Definite=Def|PronType=Art\",\n",
            "  \"head\": 14,\n",
            "  \"deprel\": \"det\",\n",
            "  \"start_char\": 56,\n",
            "  \"end_char\": 59\n",
            "})\n",
            "\n",
            "\n",
            "({\n",
            "  \"id\": 12,\n",
            "  \"text\": \"attempted\",\n",
            "  \"lemma\": \"attempt\",\n",
            "  \"upos\": \"VERB\",\n",
            "  \"xpos\": \"VBD\",\n",
            "  \"feats\": \"Mood=Ind|Number=Sing|Person=3|Tense=Past|VerbForm=Fin\",\n",
            "  \"head\": 0,\n",
            "  \"deprel\": \"root\",\n",
            "  \"start_char\": 46,\n",
            "  \"end_char\": 55\n",
            "}, 'obj', {\n",
            "  \"id\": 14,\n",
            "  \"text\": \"reduction\",\n",
            "  \"lemma\": \"reduction\",\n",
            "  \"upos\": \"NOUN\",\n",
            "  \"xpos\": \"NN\",\n",
            "  \"feats\": \"Number=Sing\",\n",
            "  \"head\": 12,\n",
            "  \"deprel\": \"obj\",\n",
            "  \"start_char\": 60,\n",
            "  \"end_char\": 69\n",
            "})\n",
            "\n",
            "\n",
            "({\n",
            "  \"id\": 16,\n",
            "  \"text\": \"Aethiopia\",\n",
            "  \"lemma\": \"Aethiopia\",\n",
            "  \"upos\": \"PROPN\",\n",
            "  \"xpos\": \"NNP\",\n",
            "  \"feats\": \"Number=Sing\",\n",
            "  \"head\": 14,\n",
            "  \"deprel\": \"nmod\",\n",
            "  \"start_char\": 73,\n",
            "  \"end_char\": 82\n",
            "}, 'case', {\n",
            "  \"id\": 15,\n",
            "  \"text\": \"of\",\n",
            "  \"lemma\": \"of\",\n",
            "  \"upos\": \"ADP\",\n",
            "  \"xpos\": \"IN\",\n",
            "  \"head\": 16,\n",
            "  \"deprel\": \"case\",\n",
            "  \"start_char\": 70,\n",
            "  \"end_char\": 72\n",
            "})\n",
            "\n",
            "\n",
            "({\n",
            "  \"id\": 14,\n",
            "  \"text\": \"reduction\",\n",
            "  \"lemma\": \"reduction\",\n",
            "  \"upos\": \"NOUN\",\n",
            "  \"xpos\": \"NN\",\n",
            "  \"feats\": \"Number=Sing\",\n",
            "  \"head\": 12,\n",
            "  \"deprel\": \"obj\",\n",
            "  \"start_char\": 60,\n",
            "  \"end_char\": 69\n",
            "}, 'nmod', {\n",
            "  \"id\": 16,\n",
            "  \"text\": \"Aethiopia\",\n",
            "  \"lemma\": \"Aethiopia\",\n",
            "  \"upos\": \"PROPN\",\n",
            "  \"xpos\": \"NNP\",\n",
            "  \"feats\": \"Number=Sing\",\n",
            "  \"head\": 14,\n",
            "  \"deprel\": \"nmod\",\n",
            "  \"start_char\": 73,\n",
            "  \"end_char\": 82\n",
            "})\n",
            "\n",
            "\n",
            "({\n",
            "  \"id\": 18,\n",
            "  \"text\": \"Arabia\",\n",
            "  \"lemma\": \"Arabia\",\n",
            "  \"upos\": \"PROPN\",\n",
            "  \"xpos\": \"NNP\",\n",
            "  \"feats\": \"Number=Sing\",\n",
            "  \"head\": 16,\n",
            "  \"deprel\": \"conj\",\n",
            "  \"start_char\": 87,\n",
            "  \"end_char\": 93\n",
            "}, 'cc', {\n",
            "  \"id\": 17,\n",
            "  \"text\": \"and\",\n",
            "  \"lemma\": \"and\",\n",
            "  \"upos\": \"CCONJ\",\n",
            "  \"xpos\": \"CC\",\n",
            "  \"head\": 18,\n",
            "  \"deprel\": \"cc\",\n",
            "  \"start_char\": 83,\n",
            "  \"end_char\": 86\n",
            "})\n",
            "\n",
            "\n",
            "({\n",
            "  \"id\": 16,\n",
            "  \"text\": \"Aethiopia\",\n",
            "  \"lemma\": \"Aethiopia\",\n",
            "  \"upos\": \"PROPN\",\n",
            "  \"xpos\": \"NNP\",\n",
            "  \"feats\": \"Number=Sing\",\n",
            "  \"head\": 14,\n",
            "  \"deprel\": \"nmod\",\n",
            "  \"start_char\": 73,\n",
            "  \"end_char\": 82\n",
            "}, 'conj', {\n",
            "  \"id\": 18,\n",
            "  \"text\": \"Arabia\",\n",
            "  \"lemma\": \"Arabia\",\n",
            "  \"upos\": \"PROPN\",\n",
            "  \"xpos\": \"NNP\",\n",
            "  \"feats\": \"Number=Sing\",\n",
            "  \"head\": 16,\n",
            "  \"deprel\": \"conj\",\n",
            "  \"start_char\": 87,\n",
            "  \"end_char\": 93\n",
            "})\n",
            "\n",
            "\n",
            "({\n",
            "  \"id\": 16,\n",
            "  \"text\": \"Aethiopia\",\n",
            "  \"lemma\": \"Aethiopia\",\n",
            "  \"upos\": \"PROPN\",\n",
            "  \"xpos\": \"NNP\",\n",
            "  \"feats\": \"Number=Sing\",\n",
            "  \"head\": 14,\n",
            "  \"deprel\": \"nmod\",\n",
            "  \"start_char\": 73,\n",
            "  \"end_char\": 82\n",
            "}, 'conj', {\n",
            "  \"id\": 19,\n",
            "  \"text\": \"Felix\",\n",
            "  \"lemma\": \"Felix\",\n",
            "  \"upos\": \"PROPN\",\n",
            "  \"xpos\": \"NNP\",\n",
            "  \"feats\": \"Number=Sing\",\n",
            "  \"head\": 16,\n",
            "  \"deprel\": \"conj\",\n",
            "  \"start_char\": 94,\n",
            "  \"end_char\": 99\n",
            "})\n",
            "\n",
            "\n",
            "({\n",
            "  \"id\": 12,\n",
            "  \"text\": \"attempted\",\n",
            "  \"lemma\": \"attempt\",\n",
            "  \"upos\": \"VERB\",\n",
            "  \"xpos\": \"VBD\",\n",
            "  \"feats\": \"Mood=Ind|Number=Sing|Person=3|Tense=Past|VerbForm=Fin\",\n",
            "  \"head\": 0,\n",
            "  \"deprel\": \"root\",\n",
            "  \"start_char\": 46,\n",
            "  \"end_char\": 55\n",
            "}, 'punct', {\n",
            "  \"id\": 20,\n",
            "  \"text\": \".\",\n",
            "  \"lemma\": \".\",\n",
            "  \"upos\": \"PUNCT\",\n",
            "  \"xpos\": \".\",\n",
            "  \"head\": 12,\n",
            "  \"deprel\": \"punct\",\n",
            "  \"start_char\": 99,\n",
            "  \"end_char\": 100\n",
            "})\n",
            "\n",
            "\n"
          ]
        }
      ]
    },
    {
      "cell_type": "code",
      "metadata": {
        "colab": {
          "base_uri": "https://localhost:8080/"
        },
        "id": "GjcUP5ucJJ6L",
        "outputId": "fa1a9f9a-af01-4df2-f855-a8e192c2acf6"
      },
      "source": [
        "## As above, can we find all of the passive verbs? \n",
        "\n",
        "for dep in first_sentence.dependencies:\n",
        "  if (dep[1] == 'nmod:poss'):\n",
        "    for word in dep:\n",
        "      if type(word) != str:\n",
        "        print(word.text)\n",
        "    print('\\n')"
      ],
      "execution_count": null,
      "outputs": [
        {
          "output_type": "stream",
          "name": "stdout",
          "text": [
            "generals\n",
            "His\n",
            "\n",
            "\n",
            "reign\n",
            "his\n",
            "\n",
            "\n"
          ]
        }
      ]
    },
    {
      "cell_type": "code",
      "metadata": {
        "id": "2WgfWKe2MJ8W"
      },
      "source": [
        "## This analysis is very scalable but always be sure to understand what your Document object is.\n",
        "## Here, I have moved up a rung and taken a whole chapter as my Document.\n",
        "\n",
        "gibbon = open('/content/gibbonfortm.xml')\n",
        "soup_chapter = BeautifulSoup(gibbon, 'lxml')## This is the same code as what I showed you on 10/13.\n",
        "\n",
        "chapter_dict = {}\n",
        "\n",
        "for i in range(len(soup_chapter.find_all('div', attrs={\"type\": \"textpart\", \"subtype\": \"chaptertext\"}))):\n",
        "  chapter_dict[f\"Chapter {i+1}\"] = soup_chapter.find_all('div', attrs={\"type\": \"textpart\", \"subtype\": \"chaptertext\"})[i].get_text()"
      ],
      "execution_count": null,
      "outputs": []
    },
    {
      "cell_type": "code",
      "metadata": {
        "id": "672JhL6wNw8v"
      },
      "source": [
        "doc_ch_1 = nlp(chapter_dict['Chapter 1']) ## This line will take the longest, as we must convert the string text to a Stanza doc, not more than a couple minutes though."
      ],
      "execution_count": null,
      "outputs": []
    },
    {
      "cell_type": "code",
      "metadata": {
        "colab": {
          "base_uri": "https://localhost:8080/"
        },
        "id": "vpj4zpx7NtVg",
        "outputId": "42625c70-f13e-4256-8389-c783a85c9f29"
      },
      "source": [
        "## Let's look at all of the proper nouns that are modified by adjectives.\n",
        "## We will return to this example when we discuss sentiment analysis.\n",
        "\n",
        "for sentence in doc_ch_1.sentences:\n",
        "  for word in sentence.words:\n",
        "    if (sentence.words[word.head-1].xpos == 'NNP') and (word.xpos == 'JJ'): ## NNP are all proper nouns; JJ is all adjectives\n",
        "        print((word.text, sentence.words[word.head-1].text))"
      ],
      "execution_count": null,
      "outputs": [
        {
          "output_type": "stream",
          "name": "stdout",
          "text": [
            "('Roman', 'senate')\n",
            "('virtuous', 'Agricola')\n",
            "('Lower', 'Danube')\n",
            "('modern', 'Europe')\n",
            "('ancient', 'Baetica')\n",
            "('Ancient', 'Gaul')\n",
            "('modern', 'France')\n",
            "('Celtic', 'Gaul')\n",
            "('Lower', 'Germany')\n",
            "('Ottoman', 'Porte')\n",
            "('ancient', 'Greece')\n",
            "('Achaean', 'league')\n",
            "('Roman', 'Asia')\n",
            "('genuine', 'Mauritania')\n"
          ]
        }
      ]
    },
    {
      "cell_type": "code",
      "metadata": {
        "id": "0UUnETOqdkD7"
      },
      "source": [
        "def getProperNounChunk(doc):\n",
        "  bigram_list = []\n",
        "\n",
        "  for sentence in doc.sentences:\n",
        "    for word in sentence.words:\n",
        "      if (sentence.words[word.head-1].xpos == 'NNP') and (word.xpos == 'JJ'):\n",
        "        bigram_list.append((word.text, sentence.words[word.head-1].text))\n",
        "  return bigram_list"
      ],
      "execution_count": null,
      "outputs": []
    },
    {
      "cell_type": "code",
      "metadata": {
        "colab": {
          "base_uri": "https://localhost:8080/"
        },
        "id": "sBSWwjMhN-w_",
        "outputId": "cd3960c7-202a-4925-f825-1a8e42b4779f"
      },
      "source": [
        "doc_ch_71 = nlp(chapter_dict['Chapter 71'])\n",
        "getProperNounChunk(doc_ch_71)"
      ],
      "execution_count": null,
      "outputs": [
        {
          "output_type": "execute_result",
          "data": {
            "text/plain": [
              "[('ancient', 'Rome'),\n",
              " ('noble', 'Annibaldi'),\n",
              " ('venerable', 'Bede'),\n",
              " ('fair', 'Jacova'),\n",
              " ('ancient', 'Rome')]"
            ]
          },
          "metadata": {},
          "execution_count": 33
        }
      ]
    },
    {
      "cell_type": "code",
      "metadata": {
        "id": "uWWOR--EeDAW"
      },
      "source": [
        "for bigram in first_sentence.dependencies: ## We can use dependenies to search for Word objects.\n",
        "  for dep in bigram:\n",
        "    if (type(dep) != str) and (dep.text == 'principal'):\n",
        "      print(dep.text,first_sentence.words[dep.head-1].text)    "
      ],
      "execution_count": null,
      "outputs": []
    },
    {
      "cell_type": "markdown",
      "metadata": {
        "id": "g-Z5t9LttAGq"
      },
      "source": [
        "## Let's Brainstorm some grammatical units that we would want to isolate. \n",
        "(some ideas) \n",
        "\n",
        "*   Noun chunks\n",
        "*   Prepositional phrase\n",
        "\n"
      ]
    },
    {
      "cell_type": "markdown",
      "metadata": {
        "id": "cuspjdKaKL1e"
      },
      "source": [
        "# Bigram comparison"
      ]
    },
    {
      "cell_type": "code",
      "metadata": {
        "id": "7eUbCVR1eDIp"
      },
      "source": [
        "def findBigrams(doc, search_word):\n",
        "  bigram_dict = {}\n",
        "  bigram_list = []\n",
        "\n",
        "  for sentence in doc.sentences:  \n",
        "    for bigram in sentence.dependencies:\n",
        "      for dep in bigram:\n",
        "        if (type(dep) != str) and (dep.text == search_word):\n",
        "          bigram_list.append((bigram[0].text,bigram[2].text))\n",
        "\n",
        "  for bigram in bigram_list:\n",
        "    if bigram in bigram_dict:\n",
        "      bigram_dict[bigram] = bigram_dict[bigram] + 1\n",
        "    else:\n",
        "      bigram_dict[bigram] = 1\n",
        "\n",
        "  return bigram_dict, bigram_list    "
      ],
      "execution_count": null,
      "outputs": []
    },
    {
      "cell_type": "code",
      "metadata": {
        "colab": {
          "base_uri": "https://localhost:8080/"
        },
        "id": "yTFdmxa749px",
        "outputId": "1a5da597-2736-4d61-8ffb-bec06e5fa5d8"
      },
      "source": [
        "!wget https://raw.githubusercontent.com/gregorycrane/DHFall2021/master/texts/hume/hume-all.txt"
      ],
      "execution_count": null,
      "outputs": [
        {
          "output_type": "stream",
          "name": "stdout",
          "text": [
            "--2021-12-22 21:27:38--  https://raw.githubusercontent.com/gregorycrane/DHFall2021/master/texts/hume/hume-all.txt\n",
            "Resolving raw.githubusercontent.com (raw.githubusercontent.com)... 185.199.108.133, 185.199.109.133, 185.199.110.133, ...\n",
            "Connecting to raw.githubusercontent.com (raw.githubusercontent.com)|185.199.108.133|:443... connected.\n",
            "HTTP request sent, awaiting response... 200 OK\n",
            "Length: 6894911 (6.6M) [text/plain]\n",
            "Saving to: ‘hume-all.txt’\n",
            "\n",
            "\rhume-all.txt          0%[                    ]       0  --.-KB/s               \rhume-all.txt        100%[===================>]   6.58M  --.-KB/s    in 0.02s   \n",
            "\n",
            "2021-12-22 21:27:39 (310 MB/s) - ‘hume-all.txt’ saved [6894911/6894911]\n",
            "\n"
          ]
        }
      ]
    },
    {
      "cell_type": "code",
      "metadata": {
        "id": "uHWnWo3r5JzM"
      },
      "source": [
        "# hume_full = open('/content/hume-all.txt')\n",
        "# hume = [] \n",
        "\n",
        "# for line in hume_full:\n",
        "#   for word in line.replace('.', ' ').replace(',', ' ').split(' '):\n",
        "#     if len(hume) <= 1000000:\n",
        "#       hume.append(word) \n",
        "\n",
        "# hume_string = ' '.join(hume)\n",
        "\n",
        "# hume_doc = nlp(hume_string) ## Will take 28 minutes\n",
        "# CoNLL.write_doc2conll(hume_doc, \"hume_output.conllu\") ## exports data so we don't needto run this cell everytime"
      ],
      "execution_count": null,
      "outputs": []
    },
    {
      "cell_type": "code",
      "metadata": {
        "colab": {
          "base_uri": "https://localhost:8080/"
        },
        "id": "QMUhP3JtgrQw",
        "outputId": "147a76d6-ace2-462c-b118-40afc41e9165"
      },
      "source": [
        "!git clone https://github.com/pnadelofficial/FallDHCourseMaterials"
      ],
      "execution_count": null,
      "outputs": [
        {
          "output_type": "stream",
          "name": "stdout",
          "text": [
            "Cloning into 'FallDHCourseMaterials'...\n",
            "remote: Enumerating objects: 420, done.\u001b[K\n",
            "remote: Counting objects: 100% (420/420), done.\u001b[K\n",
            "remote: Compressing objects: 100% (417/417), done.\u001b[K\n",
            "remote: Total 420 (delta 161), reused 0 (delta 0), pack-reused 0\u001b[K\n",
            "Receiving objects: 100% (420/420), 73.15 MiB | 5.53 MiB/s, done.\n",
            "Resolving deltas: 100% (161/161), done.\n",
            "Checking out files: 100% (158/158), done.\n"
          ]
        }
      ]
    },
    {
      "cell_type": "code",
      "metadata": {
        "id": "zH9CahtfeJa8"
      },
      "source": [
        "with zipfile.ZipFile('/content/FallDHCourseMaterials/stanza_data/hume.zip', 'r') as zip_ref:\n",
        "    zip_ref.extractall('/content')"
      ],
      "execution_count": null,
      "outputs": []
    },
    {
      "cell_type": "code",
      "metadata": {
        "id": "JEJz-tDpdDix"
      },
      "source": [
        "hume_doc = CoNLL.conll2doc('/content/hume/hume_output.conllu')"
      ],
      "execution_count": null,
      "outputs": []
    },
    {
      "cell_type": "code",
      "metadata": {
        "id": "2Q1AvrZijwvN"
      },
      "source": [
        "# gibbon = []\n",
        "\n",
        "# for chapter in soup_chapter.find_all('div', attrs={\"type\": \"textpart\", \"subtype\": \"chaptertext\"}):\n",
        "#   for word in chapter.get_text().split(' '):\n",
        "#     if len(gibbon) <= 1000000:\n",
        "#       gibbon.append(word)\n",
        "\n",
        "# len(gibbon)\n",
        "# gibbon_string = ' '.join(gibbon) \n",
        "\n",
        "# gibbon_doc = nlp(gibbon_string) ## Will take 35 minutes\n",
        "# CoNLL.write_doc2conll(gibbon_doc, \"gibbon_output.conllu\") ## exports data so we don't need to run this cell everytime"
      ],
      "execution_count": null,
      "outputs": []
    },
    {
      "cell_type": "code",
      "metadata": {
        "id": "vqFvbdbjhAdd"
      },
      "source": [
        "with zipfile.ZipFile('/content/FallDHCourseMaterials/stanza_data/gibbon.zip', 'r') as zip_ref:\n",
        "    zip_ref.extractall('/content')"
      ],
      "execution_count": null,
      "outputs": []
    },
    {
      "cell_type": "code",
      "metadata": {
        "id": "2hYeQq7YmmIv"
      },
      "source": [
        "gibbon_doc = CoNLL.conll2doc('/content/gibbon/gibbon_output.conllu')"
      ],
      "execution_count": null,
      "outputs": []
    },
    {
      "cell_type": "code",
      "metadata": {
        "id": "mw7kvPspJGiv"
      },
      "source": [
        "def compareGibbontoHume(gibbon, hume, search_word):\n",
        "  gib_dict, gib_list = findBigrams(gibbon, search_word)\n",
        "  hume_dict, hume_list = findBigrams(hume, search_word)\n",
        "\n",
        "  print(f'There are {sum(gib_dict.values())} instance(s) in Gibbon and {sum(hume_dict.values())} instance(s) in Hume.') \n",
        "  print('\\n')\n",
        "\n",
        "  print('Comparison:')\n",
        "  print('Gibbon', 'Hume', 'Bigram',sep='\\t')\n",
        "  for tup in sorted(gib_dict,key=gib_dict.get,reverse=True):    \n",
        "    if tup in hume_list:\n",
        "      hume_val = hume_dict[tup]\n",
        "    else:\n",
        "      hume_val = 0\n",
        "    print(gib_dict[tup], hume_val, tup,sep='\\t')"
      ],
      "execution_count": null,
      "outputs": []
    },
    {
      "cell_type": "code",
      "metadata": {
        "id": "Tqz_uUulJdQ0",
        "colab": {
          "base_uri": "https://localhost:8080/"
        },
        "outputId": "f7224323-f109-4851-e2b7-9f755f9abdf8"
      },
      "source": [
        "###########################################\n",
        "## Search Terms from reading ##\n",
        "  # searchs = 'balance' #Parker, p. 167\n",
        "  # searchs = 'temperate' #Parker, p. 167\n",
        "  # searchs = 'philosophic' #Parker, p. 168\n",
        "  # searchs = 'impartial'  #Parker, p. 168\n",
        "## Among others ##\n",
        "###########################################\n",
        "\n",
        "## (⊃｡•́‿•̀｡)⊃━☆ﾟ.*･｡ﾟ Interactive function (◕‿◕✿) ##\n",
        "search_term = input(\"Enter search term:\")\n",
        "compareGibbontoHume(gibbon_doc, hume_doc, search_term)"
      ],
      "execution_count": null,
      "outputs": [
        {
          "output_type": "stream",
          "name": "stdout",
          "text": [
            "Enter search term:e\n",
            "There are 0 instance(s) in Gibbon and 13278 instance(s) in Hume.\n",
            "\n",
            "\n",
            "Comparison:\n",
            "Gibbon\tHume\tBigram\n"
          ]
        }
      ]
    },
    {
      "cell_type": "markdown",
      "metadata": {
        "id": "pGeAYsYrm3Pt"
      },
      "source": [
        "## For next week: Consider how you can improve this model of comparison\n",
        "\n",
        "\n",
        "*   Case-sensitivity\n",
        "*   Remove punctuation\n",
        "*   Add other functionality from Dr. Crane's code (ex.Hume to Gibbon, not just Gibbon to Hume)\n",
        "*   How can we generate more relavant search terms\n",
        "*   Statistical relivance \n",
        "\n"
      ]
    }
  ]
}